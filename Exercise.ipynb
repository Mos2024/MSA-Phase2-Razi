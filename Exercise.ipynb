{
 "cells": [
  {
   "cell_type": "code",
   "execution_count": 1,
   "metadata": {},
   "outputs": [],
   "source": [
    "#X Sotes Sales "
   ]
  },
  {
   "cell_type": "code",
   "execution_count": 2,
   "metadata": {},
   "outputs": [],
   "source": [
    "import pandas as pd\n",
    "import seaborn as sns\n",
    "import numpy as np\n",
    "\n",
    "import math\n",
    "\n",
    "import matplotlib.pyplot as plt"
   ]
  },
  {
   "cell_type": "code",
   "execution_count": 3,
   "metadata": {},
   "outputs": [],
   "source": [
    "sales = pd.read_csv(\"sales.csv\")\n",
    "\n",
    "#store_sales = pd.read_csv(\"storeSales.csv\",encoding='ISO-8859-1')\n",
    "\n",
    "stores = pd.read_csv(\"stores.csv\")\n",
    "\n",
    "features = pd.read_csv(\"features.csv\")"
   ]
  },
  {
   "cell_type": "code",
   "execution_count": 4,
   "metadata": {},
   "outputs": [
    {
     "data": {
      "text/html": [
       "<div>\n",
       "<style scoped>\n",
       "    .dataframe tbody tr th:only-of-type {\n",
       "        vertical-align: middle;\n",
       "    }\n",
       "\n",
       "    .dataframe tbody tr th {\n",
       "        vertical-align: top;\n",
       "    }\n",
       "\n",
       "    .dataframe thead th {\n",
       "        text-align: right;\n",
       "    }\n",
       "</style>\n",
       "<table border=\"1\" class=\"dataframe\">\n",
       "  <thead>\n",
       "    <tr style=\"text-align: right;\">\n",
       "      <th></th>\n",
       "      <th>Store</th>\n",
       "      <th>Type</th>\n",
       "      <th>Size</th>\n",
       "    </tr>\n",
       "  </thead>\n",
       "  <tbody>\n",
       "    <tr>\n",
       "      <th>40</th>\n",
       "      <td>41</td>\n",
       "      <td>A</td>\n",
       "      <td>196321</td>\n",
       "    </tr>\n",
       "    <tr>\n",
       "      <th>41</th>\n",
       "      <td>42</td>\n",
       "      <td>C</td>\n",
       "      <td>39690</td>\n",
       "    </tr>\n",
       "    <tr>\n",
       "      <th>42</th>\n",
       "      <td>43</td>\n",
       "      <td>C</td>\n",
       "      <td>41062</td>\n",
       "    </tr>\n",
       "    <tr>\n",
       "      <th>43</th>\n",
       "      <td>44</td>\n",
       "      <td>C</td>\n",
       "      <td>39910</td>\n",
       "    </tr>\n",
       "    <tr>\n",
       "      <th>44</th>\n",
       "      <td>45</td>\n",
       "      <td>B</td>\n",
       "      <td>118221</td>\n",
       "    </tr>\n",
       "  </tbody>\n",
       "</table>\n",
       "</div>"
      ],
      "text/plain": [
       "    Store Type    Size\n",
       "40     41    A  196321\n",
       "41     42    C   39690\n",
       "42     43    C   41062\n",
       "43     44    C   39910\n",
       "44     45    B  118221"
      ]
     },
     "execution_count": 4,
     "metadata": {},
     "output_type": "execute_result"
    }
   ],
   "source": [
    "stores.tail()"
   ]
  },
  {
   "cell_type": "code",
   "execution_count": 5,
   "metadata": {},
   "outputs": [
    {
     "data": {
      "text/plain": [
       "Store    0\n",
       "Type     0\n",
       "Size     0\n",
       "dtype: int64"
      ]
     },
     "execution_count": 5,
     "metadata": {},
     "output_type": "execute_result"
    }
   ],
   "source": [
    "stores.isnull().sum()"
   ]
  },
  {
   "cell_type": "code",
   "execution_count": 6,
   "metadata": {},
   "outputs": [
    {
     "data": {
      "text/html": [
       "<div>\n",
       "<style scoped>\n",
       "    .dataframe tbody tr th:only-of-type {\n",
       "        vertical-align: middle;\n",
       "    }\n",
       "\n",
       "    .dataframe tbody tr th {\n",
       "        vertical-align: top;\n",
       "    }\n",
       "\n",
       "    .dataframe thead th {\n",
       "        text-align: right;\n",
       "    }\n",
       "</style>\n",
       "<table border=\"1\" class=\"dataframe\">\n",
       "  <thead>\n",
       "    <tr style=\"text-align: right;\">\n",
       "      <th></th>\n",
       "      <th>Store</th>\n",
       "      <th>Dept</th>\n",
       "      <th>Date</th>\n",
       "      <th>Weekly_Sales</th>\n",
       "      <th>IsHoliday</th>\n",
       "    </tr>\n",
       "  </thead>\n",
       "  <tbody>\n",
       "    <tr>\n",
       "      <th>421565</th>\n",
       "      <td>45</td>\n",
       "      <td>98</td>\n",
       "      <td>2012-09-28</td>\n",
       "      <td>508.37</td>\n",
       "      <td>False</td>\n",
       "    </tr>\n",
       "    <tr>\n",
       "      <th>421566</th>\n",
       "      <td>45</td>\n",
       "      <td>98</td>\n",
       "      <td>2012-10-05</td>\n",
       "      <td>628.10</td>\n",
       "      <td>False</td>\n",
       "    </tr>\n",
       "    <tr>\n",
       "      <th>421567</th>\n",
       "      <td>45</td>\n",
       "      <td>98</td>\n",
       "      <td>2012-10-12</td>\n",
       "      <td>1061.02</td>\n",
       "      <td>False</td>\n",
       "    </tr>\n",
       "    <tr>\n",
       "      <th>421568</th>\n",
       "      <td>45</td>\n",
       "      <td>98</td>\n",
       "      <td>2012-10-19</td>\n",
       "      <td>760.01</td>\n",
       "      <td>False</td>\n",
       "    </tr>\n",
       "    <tr>\n",
       "      <th>421569</th>\n",
       "      <td>45</td>\n",
       "      <td>98</td>\n",
       "      <td>2012-10-26</td>\n",
       "      <td>1076.80</td>\n",
       "      <td>False</td>\n",
       "    </tr>\n",
       "  </tbody>\n",
       "</table>\n",
       "</div>"
      ],
      "text/plain": [
       "        Store  Dept        Date  Weekly_Sales  IsHoliday\n",
       "421565     45    98  2012-09-28        508.37      False\n",
       "421566     45    98  2012-10-05        628.10      False\n",
       "421567     45    98  2012-10-12       1061.02      False\n",
       "421568     45    98  2012-10-19        760.01      False\n",
       "421569     45    98  2012-10-26       1076.80      False"
      ]
     },
     "execution_count": 6,
     "metadata": {},
     "output_type": "execute_result"
    }
   ],
   "source": [
    "sales.tail()"
   ]
  },
  {
   "cell_type": "code",
   "execution_count": 7,
   "metadata": {},
   "outputs": [
    {
     "data": {
      "text/plain": [
       "45"
      ]
     },
     "execution_count": 7,
     "metadata": {},
     "output_type": "execute_result"
    }
   ],
   "source": [
    "sales[\"Store\"].nunique()"
   ]
  },
  {
   "cell_type": "code",
   "execution_count": 8,
   "metadata": {},
   "outputs": [
    {
     "data": {
      "text/plain": [
       "Store           0\n",
       "Dept            0\n",
       "Date            0\n",
       "Weekly_Sales    0\n",
       "IsHoliday       0\n",
       "dtype: int64"
      ]
     },
     "execution_count": 8,
     "metadata": {},
     "output_type": "execute_result"
    }
   ],
   "source": [
    "sales.isnull().sum()"
   ]
  },
  {
   "cell_type": "code",
   "execution_count": 9,
   "metadata": {},
   "outputs": [
    {
     "data": {
      "text/html": [
       "<div>\n",
       "<style scoped>\n",
       "    .dataframe tbody tr th:only-of-type {\n",
       "        vertical-align: middle;\n",
       "    }\n",
       "\n",
       "    .dataframe tbody tr th {\n",
       "        vertical-align: top;\n",
       "    }\n",
       "\n",
       "    .dataframe thead th {\n",
       "        text-align: right;\n",
       "    }\n",
       "</style>\n",
       "<table border=\"1\" class=\"dataframe\">\n",
       "  <thead>\n",
       "    <tr style=\"text-align: right;\">\n",
       "      <th></th>\n",
       "      <th>Store</th>\n",
       "      <th>Date</th>\n",
       "      <th>Temperature</th>\n",
       "      <th>Fuel_Price</th>\n",
       "      <th>MarkDown1</th>\n",
       "      <th>MarkDown2</th>\n",
       "      <th>MarkDown3</th>\n",
       "      <th>MarkDown4</th>\n",
       "      <th>MarkDown5</th>\n",
       "      <th>CPI</th>\n",
       "      <th>Unemployment</th>\n",
       "      <th>IsHoliday</th>\n",
       "    </tr>\n",
       "  </thead>\n",
       "  <tbody>\n",
       "    <tr>\n",
       "      <th>0</th>\n",
       "      <td>1</td>\n",
       "      <td>2010-02-05</td>\n",
       "      <td>42.31</td>\n",
       "      <td>2.572</td>\n",
       "      <td>NaN</td>\n",
       "      <td>NaN</td>\n",
       "      <td>NaN</td>\n",
       "      <td>NaN</td>\n",
       "      <td>NaN</td>\n",
       "      <td>211.096358</td>\n",
       "      <td>8.106</td>\n",
       "      <td>False</td>\n",
       "    </tr>\n",
       "    <tr>\n",
       "      <th>1</th>\n",
       "      <td>1</td>\n",
       "      <td>2010-02-12</td>\n",
       "      <td>38.51</td>\n",
       "      <td>2.548</td>\n",
       "      <td>NaN</td>\n",
       "      <td>NaN</td>\n",
       "      <td>NaN</td>\n",
       "      <td>NaN</td>\n",
       "      <td>NaN</td>\n",
       "      <td>211.242170</td>\n",
       "      <td>8.106</td>\n",
       "      <td>True</td>\n",
       "    </tr>\n",
       "    <tr>\n",
       "      <th>2</th>\n",
       "      <td>1</td>\n",
       "      <td>2010-02-19</td>\n",
       "      <td>39.93</td>\n",
       "      <td>2.514</td>\n",
       "      <td>NaN</td>\n",
       "      <td>NaN</td>\n",
       "      <td>NaN</td>\n",
       "      <td>NaN</td>\n",
       "      <td>NaN</td>\n",
       "      <td>211.289143</td>\n",
       "      <td>8.106</td>\n",
       "      <td>False</td>\n",
       "    </tr>\n",
       "    <tr>\n",
       "      <th>3</th>\n",
       "      <td>1</td>\n",
       "      <td>2010-02-26</td>\n",
       "      <td>46.63</td>\n",
       "      <td>2.561</td>\n",
       "      <td>NaN</td>\n",
       "      <td>NaN</td>\n",
       "      <td>NaN</td>\n",
       "      <td>NaN</td>\n",
       "      <td>NaN</td>\n",
       "      <td>211.319643</td>\n",
       "      <td>8.106</td>\n",
       "      <td>False</td>\n",
       "    </tr>\n",
       "    <tr>\n",
       "      <th>4</th>\n",
       "      <td>1</td>\n",
       "      <td>2010-03-05</td>\n",
       "      <td>46.50</td>\n",
       "      <td>2.625</td>\n",
       "      <td>NaN</td>\n",
       "      <td>NaN</td>\n",
       "      <td>NaN</td>\n",
       "      <td>NaN</td>\n",
       "      <td>NaN</td>\n",
       "      <td>211.350143</td>\n",
       "      <td>8.106</td>\n",
       "      <td>False</td>\n",
       "    </tr>\n",
       "  </tbody>\n",
       "</table>\n",
       "</div>"
      ],
      "text/plain": [
       "   Store        Date  Temperature  Fuel_Price  MarkDown1  MarkDown2  \\\n",
       "0      1  2010-02-05        42.31       2.572        NaN        NaN   \n",
       "1      1  2010-02-12        38.51       2.548        NaN        NaN   \n",
       "2      1  2010-02-19        39.93       2.514        NaN        NaN   \n",
       "3      1  2010-02-26        46.63       2.561        NaN        NaN   \n",
       "4      1  2010-03-05        46.50       2.625        NaN        NaN   \n",
       "\n",
       "   MarkDown3  MarkDown4  MarkDown5         CPI  Unemployment  IsHoliday  \n",
       "0        NaN        NaN        NaN  211.096358         8.106      False  \n",
       "1        NaN        NaN        NaN  211.242170         8.106       True  \n",
       "2        NaN        NaN        NaN  211.289143         8.106      False  \n",
       "3        NaN        NaN        NaN  211.319643         8.106      False  \n",
       "4        NaN        NaN        NaN  211.350143         8.106      False  "
      ]
     },
     "execution_count": 9,
     "metadata": {},
     "output_type": "execute_result"
    }
   ],
   "source": [
    "features.head()"
   ]
  },
  {
   "cell_type": "code",
   "execution_count": 10,
   "metadata": {},
   "outputs": [
    {
     "data": {
      "text/plain": [
       "Store              0\n",
       "Date               0\n",
       "Temperature        0\n",
       "Fuel_Price         0\n",
       "MarkDown1       4158\n",
       "MarkDown2       5269\n",
       "MarkDown3       4577\n",
       "MarkDown4       4726\n",
       "MarkDown5       4140\n",
       "CPI              585\n",
       "Unemployment     585\n",
       "IsHoliday          0\n",
       "dtype: int64"
      ]
     },
     "execution_count": 10,
     "metadata": {},
     "output_type": "execute_result"
    }
   ],
   "source": [
    "features.isnull().sum()"
   ]
  },
  {
   "cell_type": "code",
   "execution_count": 11,
   "metadata": {},
   "outputs": [
    {
     "data": {
      "text/html": [
       "<div>\n",
       "<style scoped>\n",
       "    .dataframe tbody tr th:only-of-type {\n",
       "        vertical-align: middle;\n",
       "    }\n",
       "\n",
       "    .dataframe tbody tr th {\n",
       "        vertical-align: top;\n",
       "    }\n",
       "\n",
       "    .dataframe thead th {\n",
       "        text-align: right;\n",
       "    }\n",
       "</style>\n",
       "<table border=\"1\" class=\"dataframe\">\n",
       "  <thead>\n",
       "    <tr style=\"text-align: right;\">\n",
       "      <th></th>\n",
       "      <th>Date</th>\n",
       "      <th>Temperature</th>\n",
       "      <th>Fuel_Price</th>\n",
       "      <th>MarkDown1</th>\n",
       "      <th>MarkDown2</th>\n",
       "      <th>MarkDown3</th>\n",
       "      <th>MarkDown4</th>\n",
       "      <th>MarkDown5</th>\n",
       "      <th>CPI</th>\n",
       "      <th>Unemployment</th>\n",
       "    </tr>\n",
       "  </thead>\n",
       "  <tbody>\n",
       "    <tr>\n",
       "      <th>0</th>\n",
       "      <td>2010-02-05</td>\n",
       "      <td>42.31</td>\n",
       "      <td>2.572</td>\n",
       "      <td>NaN</td>\n",
       "      <td>NaN</td>\n",
       "      <td>NaN</td>\n",
       "      <td>NaN</td>\n",
       "      <td>NaN</td>\n",
       "      <td>211.096358</td>\n",
       "      <td>8.106</td>\n",
       "    </tr>\n",
       "    <tr>\n",
       "      <th>1</th>\n",
       "      <td>2010-02-12</td>\n",
       "      <td>38.51</td>\n",
       "      <td>2.548</td>\n",
       "      <td>NaN</td>\n",
       "      <td>NaN</td>\n",
       "      <td>NaN</td>\n",
       "      <td>NaN</td>\n",
       "      <td>NaN</td>\n",
       "      <td>211.242170</td>\n",
       "      <td>8.106</td>\n",
       "    </tr>\n",
       "    <tr>\n",
       "      <th>2</th>\n",
       "      <td>2010-02-19</td>\n",
       "      <td>39.93</td>\n",
       "      <td>2.514</td>\n",
       "      <td>NaN</td>\n",
       "      <td>NaN</td>\n",
       "      <td>NaN</td>\n",
       "      <td>NaN</td>\n",
       "      <td>NaN</td>\n",
       "      <td>211.289143</td>\n",
       "      <td>8.106</td>\n",
       "    </tr>\n",
       "    <tr>\n",
       "      <th>3</th>\n",
       "      <td>2010-02-26</td>\n",
       "      <td>46.63</td>\n",
       "      <td>2.561</td>\n",
       "      <td>NaN</td>\n",
       "      <td>NaN</td>\n",
       "      <td>NaN</td>\n",
       "      <td>NaN</td>\n",
       "      <td>NaN</td>\n",
       "      <td>211.319643</td>\n",
       "      <td>8.106</td>\n",
       "    </tr>\n",
       "    <tr>\n",
       "      <th>4</th>\n",
       "      <td>2010-03-05</td>\n",
       "      <td>46.50</td>\n",
       "      <td>2.625</td>\n",
       "      <td>NaN</td>\n",
       "      <td>NaN</td>\n",
       "      <td>NaN</td>\n",
       "      <td>NaN</td>\n",
       "      <td>NaN</td>\n",
       "      <td>211.350143</td>\n",
       "      <td>8.106</td>\n",
       "    </tr>\n",
       "  </tbody>\n",
       "</table>\n",
       "</div>"
      ],
      "text/plain": [
       "         Date  Temperature  Fuel_Price  MarkDown1  MarkDown2  MarkDown3  \\\n",
       "0  2010-02-05        42.31       2.572        NaN        NaN        NaN   \n",
       "1  2010-02-12        38.51       2.548        NaN        NaN        NaN   \n",
       "2  2010-02-19        39.93       2.514        NaN        NaN        NaN   \n",
       "3  2010-02-26        46.63       2.561        NaN        NaN        NaN   \n",
       "4  2010-03-05        46.50       2.625        NaN        NaN        NaN   \n",
       "\n",
       "   MarkDown4  MarkDown5         CPI  Unemployment  \n",
       "0        NaN        NaN  211.096358         8.106  \n",
       "1        NaN        NaN  211.242170         8.106  \n",
       "2        NaN        NaN  211.289143         8.106  \n",
       "3        NaN        NaN  211.319643         8.106  \n",
       "4        NaN        NaN  211.350143         8.106  "
      ]
     },
     "execution_count": 11,
     "metadata": {},
     "output_type": "execute_result"
    }
   ],
   "source": [
    "store_1_sales = sales.loc[sales['Store'] == 1]\n",
    "store_1_sales = pd.DataFrame(store_1_sales)\n",
    "\n",
    "features_1 = features.loc[features[\"Store\"] == 1]\n",
    "features_1 = features_1.drop(columns=[\"IsHoliday\",\"Store\"])\n",
    "features_1 = pd.DataFrame(features_1)\n",
    "\n",
    "features_1.head()"
   ]
  },
  {
   "cell_type": "code",
   "execution_count": 54,
   "metadata": {},
   "outputs": [
    {
     "data": {
      "text/html": [
       "<div>\n",
       "<style scoped>\n",
       "    .dataframe tbody tr th:only-of-type {\n",
       "        vertical-align: middle;\n",
       "    }\n",
       "\n",
       "    .dataframe tbody tr th {\n",
       "        vertical-align: top;\n",
       "    }\n",
       "\n",
       "    .dataframe thead th {\n",
       "        text-align: right;\n",
       "    }\n",
       "</style>\n",
       "<table border=\"1\" class=\"dataframe\">\n",
       "  <thead>\n",
       "    <tr style=\"text-align: right;\">\n",
       "      <th></th>\n",
       "      <th>Temperature</th>\n",
       "      <th>Fuel_Price</th>\n",
       "      <th>MarkDown1</th>\n",
       "      <th>MarkDown2</th>\n",
       "      <th>MarkDown3</th>\n",
       "      <th>MarkDown4</th>\n",
       "      <th>MarkDown5</th>\n",
       "      <th>CPI</th>\n",
       "      <th>Unemployment</th>\n",
       "    </tr>\n",
       "  </thead>\n",
       "  <tbody>\n",
       "    <tr>\n",
       "      <th>count</th>\n",
       "      <td>182.000000</td>\n",
       "      <td>182.000000</td>\n",
       "      <td>90.000000</td>\n",
       "      <td>73.000000</td>\n",
       "      <td>89.000000</td>\n",
       "      <td>90.000000</td>\n",
       "      <td>90.000000</td>\n",
       "      <td>169.000000</td>\n",
       "      <td>169.000000</td>\n",
       "    </tr>\n",
       "    <tr>\n",
       "      <th>mean</th>\n",
       "      <td>66.912033</td>\n",
       "      <td>3.259242</td>\n",
       "      <td>8536.592778</td>\n",
       "      <td>3346.401918</td>\n",
       "      <td>1670.797978</td>\n",
       "      <td>3653.631444</td>\n",
       "      <td>4428.307667</td>\n",
       "      <td>217.271679</td>\n",
       "      <td>7.440994</td>\n",
       "    </tr>\n",
       "    <tr>\n",
       "      <th>std</th>\n",
       "      <td>14.134829</td>\n",
       "      <td>0.393400</td>\n",
       "      <td>9380.362324</td>\n",
       "      <td>7976.082153</td>\n",
       "      <td>9829.739136</td>\n",
       "      <td>5708.012818</td>\n",
       "      <td>2933.243801</td>\n",
       "      <td>5.004205</td>\n",
       "      <td>0.533324</td>\n",
       "    </tr>\n",
       "    <tr>\n",
       "      <th>min</th>\n",
       "      <td>35.400000</td>\n",
       "      <td>2.514000</td>\n",
       "      <td>332.170000</td>\n",
       "      <td>0.500000</td>\n",
       "      <td>0.100000</td>\n",
       "      <td>8.000000</td>\n",
       "      <td>303.320000</td>\n",
       "      <td>210.337426</td>\n",
       "      <td>6.314000</td>\n",
       "    </tr>\n",
       "    <tr>\n",
       "      <th>25%</th>\n",
       "      <td>55.322500</td>\n",
       "      <td>2.873250</td>\n",
       "      <td>3667.810000</td>\n",
       "      <td>92.000000</td>\n",
       "      <td>9.800000</td>\n",
       "      <td>454.500000</td>\n",
       "      <td>2672.580000</td>\n",
       "      <td>211.746754</td>\n",
       "      <td>6.908000</td>\n",
       "    </tr>\n",
       "    <tr>\n",
       "      <th>50%</th>\n",
       "      <td>67.510000</td>\n",
       "      <td>3.354000</td>\n",
       "      <td>6170.165000</td>\n",
       "      <td>292.100000</td>\n",
       "      <td>47.210000</td>\n",
       "      <td>1627.555000</td>\n",
       "      <td>3736.910000</td>\n",
       "      <td>216.041053</td>\n",
       "      <td>7.742000</td>\n",
       "    </tr>\n",
       "    <tr>\n",
       "      <th>75%</th>\n",
       "      <td>79.857500</td>\n",
       "      <td>3.574000</td>\n",
       "      <td>10262.677500</td>\n",
       "      <td>3163.890000</td>\n",
       "      <td>209.620000</td>\n",
       "      <td>3800.232500</td>\n",
       "      <td>5898.052500</td>\n",
       "      <td>221.883779</td>\n",
       "      <td>7.838000</td>\n",
       "    </tr>\n",
       "    <tr>\n",
       "      <th>max</th>\n",
       "      <td>91.650000</td>\n",
       "      <td>3.907000</td>\n",
       "      <td>72937.290000</td>\n",
       "      <td>46011.380000</td>\n",
       "      <td>74910.320000</td>\n",
       "      <td>32403.870000</td>\n",
       "      <td>20475.320000</td>\n",
       "      <td>225.170160</td>\n",
       "      <td>8.106000</td>\n",
       "    </tr>\n",
       "  </tbody>\n",
       "</table>\n",
       "</div>"
      ],
      "text/plain": [
       "       Temperature  Fuel_Price     MarkDown1     MarkDown2     MarkDown3  \\\n",
       "count   182.000000  182.000000     90.000000     73.000000     89.000000   \n",
       "mean     66.912033    3.259242   8536.592778   3346.401918   1670.797978   \n",
       "std      14.134829    0.393400   9380.362324   7976.082153   9829.739136   \n",
       "min      35.400000    2.514000    332.170000      0.500000      0.100000   \n",
       "25%      55.322500    2.873250   3667.810000     92.000000      9.800000   \n",
       "50%      67.510000    3.354000   6170.165000    292.100000     47.210000   \n",
       "75%      79.857500    3.574000  10262.677500   3163.890000    209.620000   \n",
       "max      91.650000    3.907000  72937.290000  46011.380000  74910.320000   \n",
       "\n",
       "          MarkDown4     MarkDown5         CPI  Unemployment  \n",
       "count     90.000000     90.000000  169.000000    169.000000  \n",
       "mean    3653.631444   4428.307667  217.271679      7.440994  \n",
       "std     5708.012818   2933.243801    5.004205      0.533324  \n",
       "min        8.000000    303.320000  210.337426      6.314000  \n",
       "25%      454.500000   2672.580000  211.746754      6.908000  \n",
       "50%     1627.555000   3736.910000  216.041053      7.742000  \n",
       "75%     3800.232500   5898.052500  221.883779      7.838000  \n",
       "max    32403.870000  20475.320000  225.170160      8.106000  "
      ]
     },
     "execution_count": 54,
     "metadata": {},
     "output_type": "execute_result"
    }
   ],
   "source": [
    "features_1.describe()"
   ]
  },
  {
   "cell_type": "code",
   "execution_count": 44,
   "metadata": {},
   "outputs": [],
   "source": [
    "import plotly.express as px\n"
   ]
  },
  {
   "cell_type": "code",
   "execution_count": 61,
   "metadata": {},
   "outputs": [
    {
     "data": {
      "application/vnd.plotly.v1+json": {
       "config": {
        "plotlyServerURL": "https://plot.ly"
       },
       "data": [
        {
         "alignmentgroup": "True",
         "hovertemplate": "MarkDown5=%{x}<extra></extra>",
         "legendgroup": "",
         "marker": {
          "color": "#636efa"
         },
         "name": "",
         "notched": false,
         "offsetgroup": "",
         "orientation": "h",
         "showlegend": false,
         "type": "box",
         "x": [
          null,
          null,
          null,
          null,
          null,
          null,
          null,
          null,
          null,
          null,
          null,
          null,
          null,
          null,
          null,
          null,
          null,
          null,
          null,
          null,
          null,
          null,
          null,
          null,
          null,
          null,
          null,
          null,
          null,
          null,
          null,
          null,
          null,
          null,
          null,
          null,
          null,
          null,
          null,
          null,
          null,
          null,
          null,
          null,
          null,
          null,
          null,
          null,
          null,
          null,
          null,
          null,
          null,
          null,
          null,
          null,
          null,
          null,
          null,
          null,
          null,
          null,
          null,
          null,
          null,
          null,
          null,
          null,
          null,
          null,
          null,
          null,
          null,
          null,
          null,
          null,
          null,
          null,
          null,
          null,
          null,
          null,
          null,
          null,
          null,
          null,
          null,
          null,
          null,
          null,
          null,
          null,
          6551.42,
          5988.57,
          554.92,
          20475.32,
          14461.82,
          4011.37,
          2739.43,
          4735.78,
          8483,
          3719.38,
          3400.21,
          1222.19,
          5630.4,
          6886.04,
          3402.66,
          8143.59,
          8067.61,
          5509.84,
          2017.69,
          3657.22,
          2642.78,
          4510.72,
          1063.78,
          5747.1,
          6222.25,
          3261.04,
          3127.88,
          5508.18,
          3631.13,
          3690.85,
          7161.91,
          3083.26,
          7063.68,
          4212.97,
          6149.04,
          2596.37,
          3228.19,
          4325.19,
          4661.71,
          4836.22,
          3446.15,
          7988.25,
          3032.96,
          2737.17,
          7992.72,
          6456.71,
          4744.28,
          3626.14,
          5926.45,
          2312.85,
          1305.01,
          2737.42,
          6154.16,
          6612.69,
          303.32,
          6966.34,
          10147.9,
          2779.6,
          2834.02,
          1208.86,
          3940.02,
          4001.25,
          1900.4,
          1831.88,
          972.61,
          4671.78,
          6310.18,
          5812.86,
          2747.59,
          3697.11,
          1909.17,
          2545.66,
          3903.8,
          5092.33,
          2836.64,
          2062.05,
          1421.63,
          1301.04,
          8144.9,
          6206.97,
          2938.7,
          2056.84,
          5137.09,
          2484.44,
          3754.44,
          4812.74,
          1079.89,
          2651.05,
          5381.72,
          1245.2
         ],
         "x0": " ",
         "xaxis": "x",
         "y0": " ",
         "yaxis": "y"
        }
       ],
       "layout": {
        "boxmode": "group",
        "legend": {
         "tracegroupgap": 0
        },
        "margin": {
         "t": 60
        },
        "template": {
         "data": {
          "bar": [
           {
            "error_x": {
             "color": "#2a3f5f"
            },
            "error_y": {
             "color": "#2a3f5f"
            },
            "marker": {
             "line": {
              "color": "#E5ECF6",
              "width": 0.5
             },
             "pattern": {
              "fillmode": "overlay",
              "size": 10,
              "solidity": 0.2
             }
            },
            "type": "bar"
           }
          ],
          "barpolar": [
           {
            "marker": {
             "line": {
              "color": "#E5ECF6",
              "width": 0.5
             },
             "pattern": {
              "fillmode": "overlay",
              "size": 10,
              "solidity": 0.2
             }
            },
            "type": "barpolar"
           }
          ],
          "carpet": [
           {
            "aaxis": {
             "endlinecolor": "#2a3f5f",
             "gridcolor": "white",
             "linecolor": "white",
             "minorgridcolor": "white",
             "startlinecolor": "#2a3f5f"
            },
            "baxis": {
             "endlinecolor": "#2a3f5f",
             "gridcolor": "white",
             "linecolor": "white",
             "minorgridcolor": "white",
             "startlinecolor": "#2a3f5f"
            },
            "type": "carpet"
           }
          ],
          "choropleth": [
           {
            "colorbar": {
             "outlinewidth": 0,
             "ticks": ""
            },
            "type": "choropleth"
           }
          ],
          "contour": [
           {
            "colorbar": {
             "outlinewidth": 0,
             "ticks": ""
            },
            "colorscale": [
             [
              0,
              "#0d0887"
             ],
             [
              0.1111111111111111,
              "#46039f"
             ],
             [
              0.2222222222222222,
              "#7201a8"
             ],
             [
              0.3333333333333333,
              "#9c179e"
             ],
             [
              0.4444444444444444,
              "#bd3786"
             ],
             [
              0.5555555555555556,
              "#d8576b"
             ],
             [
              0.6666666666666666,
              "#ed7953"
             ],
             [
              0.7777777777777778,
              "#fb9f3a"
             ],
             [
              0.8888888888888888,
              "#fdca26"
             ],
             [
              1,
              "#f0f921"
             ]
            ],
            "type": "contour"
           }
          ],
          "contourcarpet": [
           {
            "colorbar": {
             "outlinewidth": 0,
             "ticks": ""
            },
            "type": "contourcarpet"
           }
          ],
          "heatmap": [
           {
            "colorbar": {
             "outlinewidth": 0,
             "ticks": ""
            },
            "colorscale": [
             [
              0,
              "#0d0887"
             ],
             [
              0.1111111111111111,
              "#46039f"
             ],
             [
              0.2222222222222222,
              "#7201a8"
             ],
             [
              0.3333333333333333,
              "#9c179e"
             ],
             [
              0.4444444444444444,
              "#bd3786"
             ],
             [
              0.5555555555555556,
              "#d8576b"
             ],
             [
              0.6666666666666666,
              "#ed7953"
             ],
             [
              0.7777777777777778,
              "#fb9f3a"
             ],
             [
              0.8888888888888888,
              "#fdca26"
             ],
             [
              1,
              "#f0f921"
             ]
            ],
            "type": "heatmap"
           }
          ],
          "heatmapgl": [
           {
            "colorbar": {
             "outlinewidth": 0,
             "ticks": ""
            },
            "colorscale": [
             [
              0,
              "#0d0887"
             ],
             [
              0.1111111111111111,
              "#46039f"
             ],
             [
              0.2222222222222222,
              "#7201a8"
             ],
             [
              0.3333333333333333,
              "#9c179e"
             ],
             [
              0.4444444444444444,
              "#bd3786"
             ],
             [
              0.5555555555555556,
              "#d8576b"
             ],
             [
              0.6666666666666666,
              "#ed7953"
             ],
             [
              0.7777777777777778,
              "#fb9f3a"
             ],
             [
              0.8888888888888888,
              "#fdca26"
             ],
             [
              1,
              "#f0f921"
             ]
            ],
            "type": "heatmapgl"
           }
          ],
          "histogram": [
           {
            "marker": {
             "pattern": {
              "fillmode": "overlay",
              "size": 10,
              "solidity": 0.2
             }
            },
            "type": "histogram"
           }
          ],
          "histogram2d": [
           {
            "colorbar": {
             "outlinewidth": 0,
             "ticks": ""
            },
            "colorscale": [
             [
              0,
              "#0d0887"
             ],
             [
              0.1111111111111111,
              "#46039f"
             ],
             [
              0.2222222222222222,
              "#7201a8"
             ],
             [
              0.3333333333333333,
              "#9c179e"
             ],
             [
              0.4444444444444444,
              "#bd3786"
             ],
             [
              0.5555555555555556,
              "#d8576b"
             ],
             [
              0.6666666666666666,
              "#ed7953"
             ],
             [
              0.7777777777777778,
              "#fb9f3a"
             ],
             [
              0.8888888888888888,
              "#fdca26"
             ],
             [
              1,
              "#f0f921"
             ]
            ],
            "type": "histogram2d"
           }
          ],
          "histogram2dcontour": [
           {
            "colorbar": {
             "outlinewidth": 0,
             "ticks": ""
            },
            "colorscale": [
             [
              0,
              "#0d0887"
             ],
             [
              0.1111111111111111,
              "#46039f"
             ],
             [
              0.2222222222222222,
              "#7201a8"
             ],
             [
              0.3333333333333333,
              "#9c179e"
             ],
             [
              0.4444444444444444,
              "#bd3786"
             ],
             [
              0.5555555555555556,
              "#d8576b"
             ],
             [
              0.6666666666666666,
              "#ed7953"
             ],
             [
              0.7777777777777778,
              "#fb9f3a"
             ],
             [
              0.8888888888888888,
              "#fdca26"
             ],
             [
              1,
              "#f0f921"
             ]
            ],
            "type": "histogram2dcontour"
           }
          ],
          "mesh3d": [
           {
            "colorbar": {
             "outlinewidth": 0,
             "ticks": ""
            },
            "type": "mesh3d"
           }
          ],
          "parcoords": [
           {
            "line": {
             "colorbar": {
              "outlinewidth": 0,
              "ticks": ""
             }
            },
            "type": "parcoords"
           }
          ],
          "pie": [
           {
            "automargin": true,
            "type": "pie"
           }
          ],
          "scatter": [
           {
            "fillpattern": {
             "fillmode": "overlay",
             "size": 10,
             "solidity": 0.2
            },
            "type": "scatter"
           }
          ],
          "scatter3d": [
           {
            "line": {
             "colorbar": {
              "outlinewidth": 0,
              "ticks": ""
             }
            },
            "marker": {
             "colorbar": {
              "outlinewidth": 0,
              "ticks": ""
             }
            },
            "type": "scatter3d"
           }
          ],
          "scattercarpet": [
           {
            "marker": {
             "colorbar": {
              "outlinewidth": 0,
              "ticks": ""
             }
            },
            "type": "scattercarpet"
           }
          ],
          "scattergeo": [
           {
            "marker": {
             "colorbar": {
              "outlinewidth": 0,
              "ticks": ""
             }
            },
            "type": "scattergeo"
           }
          ],
          "scattergl": [
           {
            "marker": {
             "colorbar": {
              "outlinewidth": 0,
              "ticks": ""
             }
            },
            "type": "scattergl"
           }
          ],
          "scattermapbox": [
           {
            "marker": {
             "colorbar": {
              "outlinewidth": 0,
              "ticks": ""
             }
            },
            "type": "scattermapbox"
           }
          ],
          "scatterpolar": [
           {
            "marker": {
             "colorbar": {
              "outlinewidth": 0,
              "ticks": ""
             }
            },
            "type": "scatterpolar"
           }
          ],
          "scatterpolargl": [
           {
            "marker": {
             "colorbar": {
              "outlinewidth": 0,
              "ticks": ""
             }
            },
            "type": "scatterpolargl"
           }
          ],
          "scatterternary": [
           {
            "marker": {
             "colorbar": {
              "outlinewidth": 0,
              "ticks": ""
             }
            },
            "type": "scatterternary"
           }
          ],
          "surface": [
           {
            "colorbar": {
             "outlinewidth": 0,
             "ticks": ""
            },
            "colorscale": [
             [
              0,
              "#0d0887"
             ],
             [
              0.1111111111111111,
              "#46039f"
             ],
             [
              0.2222222222222222,
              "#7201a8"
             ],
             [
              0.3333333333333333,
              "#9c179e"
             ],
             [
              0.4444444444444444,
              "#bd3786"
             ],
             [
              0.5555555555555556,
              "#d8576b"
             ],
             [
              0.6666666666666666,
              "#ed7953"
             ],
             [
              0.7777777777777778,
              "#fb9f3a"
             ],
             [
              0.8888888888888888,
              "#fdca26"
             ],
             [
              1,
              "#f0f921"
             ]
            ],
            "type": "surface"
           }
          ],
          "table": [
           {
            "cells": {
             "fill": {
              "color": "#EBF0F8"
             },
             "line": {
              "color": "white"
             }
            },
            "header": {
             "fill": {
              "color": "#C8D4E3"
             },
             "line": {
              "color": "white"
             }
            },
            "type": "table"
           }
          ]
         },
         "layout": {
          "annotationdefaults": {
           "arrowcolor": "#2a3f5f",
           "arrowhead": 0,
           "arrowwidth": 1
          },
          "autotypenumbers": "strict",
          "coloraxis": {
           "colorbar": {
            "outlinewidth": 0,
            "ticks": ""
           }
          },
          "colorscale": {
           "diverging": [
            [
             0,
             "#8e0152"
            ],
            [
             0.1,
             "#c51b7d"
            ],
            [
             0.2,
             "#de77ae"
            ],
            [
             0.3,
             "#f1b6da"
            ],
            [
             0.4,
             "#fde0ef"
            ],
            [
             0.5,
             "#f7f7f7"
            ],
            [
             0.6,
             "#e6f5d0"
            ],
            [
             0.7,
             "#b8e186"
            ],
            [
             0.8,
             "#7fbc41"
            ],
            [
             0.9,
             "#4d9221"
            ],
            [
             1,
             "#276419"
            ]
           ],
           "sequential": [
            [
             0,
             "#0d0887"
            ],
            [
             0.1111111111111111,
             "#46039f"
            ],
            [
             0.2222222222222222,
             "#7201a8"
            ],
            [
             0.3333333333333333,
             "#9c179e"
            ],
            [
             0.4444444444444444,
             "#bd3786"
            ],
            [
             0.5555555555555556,
             "#d8576b"
            ],
            [
             0.6666666666666666,
             "#ed7953"
            ],
            [
             0.7777777777777778,
             "#fb9f3a"
            ],
            [
             0.8888888888888888,
             "#fdca26"
            ],
            [
             1,
             "#f0f921"
            ]
           ],
           "sequentialminus": [
            [
             0,
             "#0d0887"
            ],
            [
             0.1111111111111111,
             "#46039f"
            ],
            [
             0.2222222222222222,
             "#7201a8"
            ],
            [
             0.3333333333333333,
             "#9c179e"
            ],
            [
             0.4444444444444444,
             "#bd3786"
            ],
            [
             0.5555555555555556,
             "#d8576b"
            ],
            [
             0.6666666666666666,
             "#ed7953"
            ],
            [
             0.7777777777777778,
             "#fb9f3a"
            ],
            [
             0.8888888888888888,
             "#fdca26"
            ],
            [
             1,
             "#f0f921"
            ]
           ]
          },
          "colorway": [
           "#636efa",
           "#EF553B",
           "#00cc96",
           "#ab63fa",
           "#FFA15A",
           "#19d3f3",
           "#FF6692",
           "#B6E880",
           "#FF97FF",
           "#FECB52"
          ],
          "font": {
           "color": "#2a3f5f"
          },
          "geo": {
           "bgcolor": "white",
           "lakecolor": "white",
           "landcolor": "#E5ECF6",
           "showlakes": true,
           "showland": true,
           "subunitcolor": "white"
          },
          "hoverlabel": {
           "align": "left"
          },
          "hovermode": "closest",
          "mapbox": {
           "style": "light"
          },
          "paper_bgcolor": "white",
          "plot_bgcolor": "#E5ECF6",
          "polar": {
           "angularaxis": {
            "gridcolor": "white",
            "linecolor": "white",
            "ticks": ""
           },
           "bgcolor": "#E5ECF6",
           "radialaxis": {
            "gridcolor": "white",
            "linecolor": "white",
            "ticks": ""
           }
          },
          "scene": {
           "xaxis": {
            "backgroundcolor": "#E5ECF6",
            "gridcolor": "white",
            "gridwidth": 2,
            "linecolor": "white",
            "showbackground": true,
            "ticks": "",
            "zerolinecolor": "white"
           },
           "yaxis": {
            "backgroundcolor": "#E5ECF6",
            "gridcolor": "white",
            "gridwidth": 2,
            "linecolor": "white",
            "showbackground": true,
            "ticks": "",
            "zerolinecolor": "white"
           },
           "zaxis": {
            "backgroundcolor": "#E5ECF6",
            "gridcolor": "white",
            "gridwidth": 2,
            "linecolor": "white",
            "showbackground": true,
            "ticks": "",
            "zerolinecolor": "white"
           }
          },
          "shapedefaults": {
           "line": {
            "color": "#2a3f5f"
           }
          },
          "ternary": {
           "aaxis": {
            "gridcolor": "white",
            "linecolor": "white",
            "ticks": ""
           },
           "baxis": {
            "gridcolor": "white",
            "linecolor": "white",
            "ticks": ""
           },
           "bgcolor": "#E5ECF6",
           "caxis": {
            "gridcolor": "white",
            "linecolor": "white",
            "ticks": ""
           }
          },
          "title": {
           "x": 0.05
          },
          "xaxis": {
           "automargin": true,
           "gridcolor": "white",
           "linecolor": "white",
           "ticks": "",
           "title": {
            "standoff": 15
           },
           "zerolinecolor": "white",
           "zerolinewidth": 2
          },
          "yaxis": {
           "automargin": true,
           "gridcolor": "white",
           "linecolor": "white",
           "ticks": "",
           "title": {
            "standoff": 15
           },
           "zerolinecolor": "white",
           "zerolinewidth": 2
          }
         }
        },
        "xaxis": {
         "anchor": "y",
         "domain": [
          0,
          1
         ],
         "title": {
          "text": "MarkDown5"
         }
        },
        "yaxis": {
         "anchor": "x",
         "domain": [
          0,
          1
         ]
        }
       }
      }
     },
     "metadata": {},
     "output_type": "display_data"
    }
   ],
   "source": [
    "fig = px.box(features_1, x= \"MarkDown5\")\n",
    "\n",
    "fig.show()"
   ]
  },
  {
   "cell_type": "code",
   "execution_count": 12,
   "metadata": {},
   "outputs": [
    {
     "data": {
      "text/plain": [
       "((10244, 5), (182, 10))"
      ]
     },
     "execution_count": 12,
     "metadata": {},
     "output_type": "execute_result"
    }
   ],
   "source": [
    "store_1_sales.shape, features_1.shape"
   ]
  },
  {
   "cell_type": "code",
   "execution_count": 13,
   "metadata": {},
   "outputs": [
    {
     "data": {
      "text/html": [
       "<div>\n",
       "<style scoped>\n",
       "    .dataframe tbody tr th:only-of-type {\n",
       "        vertical-align: middle;\n",
       "    }\n",
       "\n",
       "    .dataframe tbody tr th {\n",
       "        vertical-align: top;\n",
       "    }\n",
       "\n",
       "    .dataframe thead th {\n",
       "        text-align: right;\n",
       "    }\n",
       "</style>\n",
       "<table border=\"1\" class=\"dataframe\">\n",
       "  <thead>\n",
       "    <tr style=\"text-align: right;\">\n",
       "      <th></th>\n",
       "      <th>Store</th>\n",
       "      <th>Dept</th>\n",
       "      <th>Weekly_Sales</th>\n",
       "      <th>IsHoliday</th>\n",
       "      <th>Temperature</th>\n",
       "      <th>Fuel_Price</th>\n",
       "      <th>MarkDown1</th>\n",
       "      <th>MarkDown2</th>\n",
       "      <th>MarkDown3</th>\n",
       "      <th>MarkDown4</th>\n",
       "      <th>MarkDown5</th>\n",
       "      <th>CPI</th>\n",
       "      <th>Unemployment</th>\n",
       "    </tr>\n",
       "    <tr>\n",
       "      <th>Date</th>\n",
       "      <th></th>\n",
       "      <th></th>\n",
       "      <th></th>\n",
       "      <th></th>\n",
       "      <th></th>\n",
       "      <th></th>\n",
       "      <th></th>\n",
       "      <th></th>\n",
       "      <th></th>\n",
       "      <th></th>\n",
       "      <th></th>\n",
       "      <th></th>\n",
       "      <th></th>\n",
       "    </tr>\n",
       "  </thead>\n",
       "  <tbody>\n",
       "    <tr>\n",
       "      <th>2010-02-05</th>\n",
       "      <td>1</td>\n",
       "      <td>1</td>\n",
       "      <td>24924.50</td>\n",
       "      <td>False</td>\n",
       "      <td>42.31</td>\n",
       "      <td>2.572</td>\n",
       "      <td>NaN</td>\n",
       "      <td>NaN</td>\n",
       "      <td>NaN</td>\n",
       "      <td>NaN</td>\n",
       "      <td>NaN</td>\n",
       "      <td>211.096358</td>\n",
       "      <td>8.106</td>\n",
       "    </tr>\n",
       "    <tr>\n",
       "      <th>2010-02-05</th>\n",
       "      <td>1</td>\n",
       "      <td>2</td>\n",
       "      <td>50605.27</td>\n",
       "      <td>False</td>\n",
       "      <td>42.31</td>\n",
       "      <td>2.572</td>\n",
       "      <td>NaN</td>\n",
       "      <td>NaN</td>\n",
       "      <td>NaN</td>\n",
       "      <td>NaN</td>\n",
       "      <td>NaN</td>\n",
       "      <td>211.096358</td>\n",
       "      <td>8.106</td>\n",
       "    </tr>\n",
       "    <tr>\n",
       "      <th>2010-02-05</th>\n",
       "      <td>1</td>\n",
       "      <td>3</td>\n",
       "      <td>13740.12</td>\n",
       "      <td>False</td>\n",
       "      <td>42.31</td>\n",
       "      <td>2.572</td>\n",
       "      <td>NaN</td>\n",
       "      <td>NaN</td>\n",
       "      <td>NaN</td>\n",
       "      <td>NaN</td>\n",
       "      <td>NaN</td>\n",
       "      <td>211.096358</td>\n",
       "      <td>8.106</td>\n",
       "    </tr>\n",
       "    <tr>\n",
       "      <th>2010-02-05</th>\n",
       "      <td>1</td>\n",
       "      <td>4</td>\n",
       "      <td>39954.04</td>\n",
       "      <td>False</td>\n",
       "      <td>42.31</td>\n",
       "      <td>2.572</td>\n",
       "      <td>NaN</td>\n",
       "      <td>NaN</td>\n",
       "      <td>NaN</td>\n",
       "      <td>NaN</td>\n",
       "      <td>NaN</td>\n",
       "      <td>211.096358</td>\n",
       "      <td>8.106</td>\n",
       "    </tr>\n",
       "    <tr>\n",
       "      <th>2010-02-05</th>\n",
       "      <td>1</td>\n",
       "      <td>5</td>\n",
       "      <td>32229.38</td>\n",
       "      <td>False</td>\n",
       "      <td>42.31</td>\n",
       "      <td>2.572</td>\n",
       "      <td>NaN</td>\n",
       "      <td>NaN</td>\n",
       "      <td>NaN</td>\n",
       "      <td>NaN</td>\n",
       "      <td>NaN</td>\n",
       "      <td>211.096358</td>\n",
       "      <td>8.106</td>\n",
       "    </tr>\n",
       "  </tbody>\n",
       "</table>\n",
       "</div>"
      ],
      "text/plain": [
       "            Store  Dept  Weekly_Sales  IsHoliday  Temperature  Fuel_Price  \\\n",
       "Date                                                                        \n",
       "2010-02-05      1     1      24924.50      False        42.31       2.572   \n",
       "2010-02-05      1     2      50605.27      False        42.31       2.572   \n",
       "2010-02-05      1     3      13740.12      False        42.31       2.572   \n",
       "2010-02-05      1     4      39954.04      False        42.31       2.572   \n",
       "2010-02-05      1     5      32229.38      False        42.31       2.572   \n",
       "\n",
       "            MarkDown1  MarkDown2  MarkDown3  MarkDown4  MarkDown5         CPI  \\\n",
       "Date                                                                            \n",
       "2010-02-05        NaN        NaN        NaN        NaN        NaN  211.096358   \n",
       "2010-02-05        NaN        NaN        NaN        NaN        NaN  211.096358   \n",
       "2010-02-05        NaN        NaN        NaN        NaN        NaN  211.096358   \n",
       "2010-02-05        NaN        NaN        NaN        NaN        NaN  211.096358   \n",
       "2010-02-05        NaN        NaN        NaN        NaN        NaN  211.096358   \n",
       "\n",
       "            Unemployment  \n",
       "Date                      \n",
       "2010-02-05         8.106  \n",
       "2010-02-05         8.106  \n",
       "2010-02-05         8.106  \n",
       "2010-02-05         8.106  \n",
       "2010-02-05         8.106  "
      ]
     },
     "execution_count": 13,
     "metadata": {},
     "output_type": "execute_result"
    }
   ],
   "source": [
    "df_1 = store_1_sales.set_index(\"Date\").join(features_1.set_index(\"Date\"))\n",
    "\n",
    "df_1.head()\n"
   ]
  },
  {
   "cell_type": "code",
   "execution_count": 14,
   "metadata": {},
   "outputs": [],
   "source": [
    "df_1 = df_1.drop(columns=[\"Store\"])\n",
    "\n"
   ]
  },
  {
   "cell_type": "code",
   "execution_count": 15,
   "metadata": {},
   "outputs": [
    {
     "data": {
      "text/html": [
       "<div>\n",
       "<style scoped>\n",
       "    .dataframe tbody tr th:only-of-type {\n",
       "        vertical-align: middle;\n",
       "    }\n",
       "\n",
       "    .dataframe tbody tr th {\n",
       "        vertical-align: top;\n",
       "    }\n",
       "\n",
       "    .dataframe thead th {\n",
       "        text-align: right;\n",
       "    }\n",
       "</style>\n",
       "<table border=\"1\" class=\"dataframe\">\n",
       "  <thead>\n",
       "    <tr style=\"text-align: right;\">\n",
       "      <th></th>\n",
       "      <th>Dept</th>\n",
       "      <th>Weekly_Sales</th>\n",
       "      <th>IsHoliday</th>\n",
       "      <th>Temperature</th>\n",
       "      <th>Fuel_Price</th>\n",
       "      <th>MarkDown1</th>\n",
       "      <th>MarkDown2</th>\n",
       "      <th>MarkDown3</th>\n",
       "      <th>MarkDown4</th>\n",
       "      <th>MarkDown5</th>\n",
       "      <th>CPI</th>\n",
       "      <th>Unemployment</th>\n",
       "    </tr>\n",
       "    <tr>\n",
       "      <th>Date</th>\n",
       "      <th></th>\n",
       "      <th></th>\n",
       "      <th></th>\n",
       "      <th></th>\n",
       "      <th></th>\n",
       "      <th></th>\n",
       "      <th></th>\n",
       "      <th></th>\n",
       "      <th></th>\n",
       "      <th></th>\n",
       "      <th></th>\n",
       "      <th></th>\n",
       "    </tr>\n",
       "  </thead>\n",
       "  <tbody>\n",
       "    <tr>\n",
       "      <th>2011-11-11</th>\n",
       "      <td>1</td>\n",
       "      <td>18689.54</td>\n",
       "      <td>False</td>\n",
       "      <td>59.11</td>\n",
       "      <td>3.297</td>\n",
       "      <td>10382.9</td>\n",
       "      <td>6115.67</td>\n",
       "      <td>215.07</td>\n",
       "      <td>2406.62</td>\n",
       "      <td>6551.42</td>\n",
       "      <td>217.998085</td>\n",
       "      <td>7.866</td>\n",
       "    </tr>\n",
       "    <tr>\n",
       "      <th>2011-11-11</th>\n",
       "      <td>2</td>\n",
       "      <td>44936.47</td>\n",
       "      <td>False</td>\n",
       "      <td>59.11</td>\n",
       "      <td>3.297</td>\n",
       "      <td>10382.9</td>\n",
       "      <td>6115.67</td>\n",
       "      <td>215.07</td>\n",
       "      <td>2406.62</td>\n",
       "      <td>6551.42</td>\n",
       "      <td>217.998085</td>\n",
       "      <td>7.866</td>\n",
       "    </tr>\n",
       "    <tr>\n",
       "      <th>2011-11-11</th>\n",
       "      <td>3</td>\n",
       "      <td>9959.64</td>\n",
       "      <td>False</td>\n",
       "      <td>59.11</td>\n",
       "      <td>3.297</td>\n",
       "      <td>10382.9</td>\n",
       "      <td>6115.67</td>\n",
       "      <td>215.07</td>\n",
       "      <td>2406.62</td>\n",
       "      <td>6551.42</td>\n",
       "      <td>217.998085</td>\n",
       "      <td>7.866</td>\n",
       "    </tr>\n",
       "    <tr>\n",
       "      <th>2011-11-11</th>\n",
       "      <td>4</td>\n",
       "      <td>36826.52</td>\n",
       "      <td>False</td>\n",
       "      <td>59.11</td>\n",
       "      <td>3.297</td>\n",
       "      <td>10382.9</td>\n",
       "      <td>6115.67</td>\n",
       "      <td>215.07</td>\n",
       "      <td>2406.62</td>\n",
       "      <td>6551.42</td>\n",
       "      <td>217.998085</td>\n",
       "      <td>7.866</td>\n",
       "    </tr>\n",
       "    <tr>\n",
       "      <th>2011-11-11</th>\n",
       "      <td>5</td>\n",
       "      <td>31002.65</td>\n",
       "      <td>False</td>\n",
       "      <td>59.11</td>\n",
       "      <td>3.297</td>\n",
       "      <td>10382.9</td>\n",
       "      <td>6115.67</td>\n",
       "      <td>215.07</td>\n",
       "      <td>2406.62</td>\n",
       "      <td>6551.42</td>\n",
       "      <td>217.998085</td>\n",
       "      <td>7.866</td>\n",
       "    </tr>\n",
       "  </tbody>\n",
       "</table>\n",
       "</div>"
      ],
      "text/plain": [
       "            Dept  Weekly_Sales  IsHoliday  Temperature  Fuel_Price  MarkDown1  \\\n",
       "Date                                                                            \n",
       "2011-11-11     1      18689.54      False        59.11       3.297    10382.9   \n",
       "2011-11-11     2      44936.47      False        59.11       3.297    10382.9   \n",
       "2011-11-11     3       9959.64      False        59.11       3.297    10382.9   \n",
       "2011-11-11     4      36826.52      False        59.11       3.297    10382.9   \n",
       "2011-11-11     5      31002.65      False        59.11       3.297    10382.9   \n",
       "\n",
       "            MarkDown2  MarkDown3  MarkDown4  MarkDown5         CPI  \\\n",
       "Date                                                                 \n",
       "2011-11-11    6115.67     215.07    2406.62    6551.42  217.998085   \n",
       "2011-11-11    6115.67     215.07    2406.62    6551.42  217.998085   \n",
       "2011-11-11    6115.67     215.07    2406.62    6551.42  217.998085   \n",
       "2011-11-11    6115.67     215.07    2406.62    6551.42  217.998085   \n",
       "2011-11-11    6115.67     215.07    2406.62    6551.42  217.998085   \n",
       "\n",
       "            Unemployment  \n",
       "Date                      \n",
       "2011-11-11         7.866  \n",
       "2011-11-11         7.866  \n",
       "2011-11-11         7.866  \n",
       "2011-11-11         7.866  \n",
       "2011-11-11         7.866  "
      ]
     },
     "execution_count": 15,
     "metadata": {},
     "output_type": "execute_result"
    }
   ],
   "source": [
    "# Here, we join two data_frames.\n",
    "\n",
    "\n",
    "\n",
    "\n",
    "df_1.dropna(inplace = True)\n",
    "\n",
    "df_1.head()"
   ]
  },
  {
   "cell_type": "code",
   "execution_count": 16,
   "metadata": {},
   "outputs": [
    {
     "data": {
      "text/html": [
       "<div>\n",
       "<style scoped>\n",
       "    .dataframe tbody tr th:only-of-type {\n",
       "        vertical-align: middle;\n",
       "    }\n",
       "\n",
       "    .dataframe tbody tr th {\n",
       "        vertical-align: top;\n",
       "    }\n",
       "\n",
       "    .dataframe thead th {\n",
       "        text-align: right;\n",
       "    }\n",
       "</style>\n",
       "<table border=\"1\" class=\"dataframe\">\n",
       "  <thead>\n",
       "    <tr style=\"text-align: right;\">\n",
       "      <th></th>\n",
       "      <th>Dept</th>\n",
       "      <th>Weekly_Sales</th>\n",
       "      <th>IsHoliday</th>\n",
       "      <th>Temperature</th>\n",
       "      <th>Fuel_Price</th>\n",
       "      <th>MarkDown1</th>\n",
       "      <th>MarkDown2</th>\n",
       "      <th>MarkDown3</th>\n",
       "      <th>MarkDown4</th>\n",
       "      <th>MarkDown5</th>\n",
       "      <th>CPI</th>\n",
       "      <th>Unemployment</th>\n",
       "    </tr>\n",
       "    <tr>\n",
       "      <th>Date</th>\n",
       "      <th></th>\n",
       "      <th></th>\n",
       "      <th></th>\n",
       "      <th></th>\n",
       "      <th></th>\n",
       "      <th></th>\n",
       "      <th></th>\n",
       "      <th></th>\n",
       "      <th></th>\n",
       "      <th></th>\n",
       "      <th></th>\n",
       "      <th></th>\n",
       "    </tr>\n",
       "  </thead>\n",
       "  <tbody>\n",
       "    <tr>\n",
       "      <th>2011-11-11</th>\n",
       "      <td>1</td>\n",
       "      <td>18689.54</td>\n",
       "      <td>0</td>\n",
       "      <td>59.11</td>\n",
       "      <td>3.297</td>\n",
       "      <td>10382.9</td>\n",
       "      <td>6115.67</td>\n",
       "      <td>215.07</td>\n",
       "      <td>2406.62</td>\n",
       "      <td>6551.42</td>\n",
       "      <td>217.998085</td>\n",
       "      <td>7.866</td>\n",
       "    </tr>\n",
       "    <tr>\n",
       "      <th>2011-11-11</th>\n",
       "      <td>2</td>\n",
       "      <td>44936.47</td>\n",
       "      <td>0</td>\n",
       "      <td>59.11</td>\n",
       "      <td>3.297</td>\n",
       "      <td>10382.9</td>\n",
       "      <td>6115.67</td>\n",
       "      <td>215.07</td>\n",
       "      <td>2406.62</td>\n",
       "      <td>6551.42</td>\n",
       "      <td>217.998085</td>\n",
       "      <td>7.866</td>\n",
       "    </tr>\n",
       "    <tr>\n",
       "      <th>2011-11-11</th>\n",
       "      <td>3</td>\n",
       "      <td>9959.64</td>\n",
       "      <td>0</td>\n",
       "      <td>59.11</td>\n",
       "      <td>3.297</td>\n",
       "      <td>10382.9</td>\n",
       "      <td>6115.67</td>\n",
       "      <td>215.07</td>\n",
       "      <td>2406.62</td>\n",
       "      <td>6551.42</td>\n",
       "      <td>217.998085</td>\n",
       "      <td>7.866</td>\n",
       "    </tr>\n",
       "    <tr>\n",
       "      <th>2011-11-11</th>\n",
       "      <td>4</td>\n",
       "      <td>36826.52</td>\n",
       "      <td>0</td>\n",
       "      <td>59.11</td>\n",
       "      <td>3.297</td>\n",
       "      <td>10382.9</td>\n",
       "      <td>6115.67</td>\n",
       "      <td>215.07</td>\n",
       "      <td>2406.62</td>\n",
       "      <td>6551.42</td>\n",
       "      <td>217.998085</td>\n",
       "      <td>7.866</td>\n",
       "    </tr>\n",
       "    <tr>\n",
       "      <th>2011-11-11</th>\n",
       "      <td>5</td>\n",
       "      <td>31002.65</td>\n",
       "      <td>0</td>\n",
       "      <td>59.11</td>\n",
       "      <td>3.297</td>\n",
       "      <td>10382.9</td>\n",
       "      <td>6115.67</td>\n",
       "      <td>215.07</td>\n",
       "      <td>2406.62</td>\n",
       "      <td>6551.42</td>\n",
       "      <td>217.998085</td>\n",
       "      <td>7.866</td>\n",
       "    </tr>\n",
       "  </tbody>\n",
       "</table>\n",
       "</div>"
      ],
      "text/plain": [
       "            Dept  Weekly_Sales  IsHoliday  Temperature  Fuel_Price  MarkDown1  \\\n",
       "Date                                                                            \n",
       "2011-11-11     1      18689.54          0        59.11       3.297    10382.9   \n",
       "2011-11-11     2      44936.47          0        59.11       3.297    10382.9   \n",
       "2011-11-11     3       9959.64          0        59.11       3.297    10382.9   \n",
       "2011-11-11     4      36826.52          0        59.11       3.297    10382.9   \n",
       "2011-11-11     5      31002.65          0        59.11       3.297    10382.9   \n",
       "\n",
       "            MarkDown2  MarkDown3  MarkDown4  MarkDown5         CPI  \\\n",
       "Date                                                                 \n",
       "2011-11-11    6115.67     215.07    2406.62    6551.42  217.998085   \n",
       "2011-11-11    6115.67     215.07    2406.62    6551.42  217.998085   \n",
       "2011-11-11    6115.67     215.07    2406.62    6551.42  217.998085   \n",
       "2011-11-11    6115.67     215.07    2406.62    6551.42  217.998085   \n",
       "2011-11-11    6115.67     215.07    2406.62    6551.42  217.998085   \n",
       "\n",
       "            Unemployment  \n",
       "Date                      \n",
       "2011-11-11         7.866  \n",
       "2011-11-11         7.866  \n",
       "2011-11-11         7.866  \n",
       "2011-11-11         7.866  \n",
       "2011-11-11         7.866  "
      ]
     },
     "execution_count": 16,
     "metadata": {},
     "output_type": "execute_result"
    }
   ],
   "source": [
    "df_1[\"IsHoliday\"] = df_1[\"IsHoliday\"].astype(int) #\"hand-one\" encoding\n",
    "\n",
    "df_1.head()"
   ]
  },
  {
   "cell_type": "code",
   "execution_count": 17,
   "metadata": {},
   "outputs": [
    {
     "name": "stdout",
     "output_type": "stream",
     "text": [
      "['Dept', 'IsHoliday', 'Temperature', 'Fuel_Price', 'MarkDown1', 'MarkDown2', 'MarkDown3', 'MarkDown4', 'MarkDown5', 'CPI', 'Unemployment']\n"
     ]
    }
   ],
   "source": [
    "Independents = []\n",
    "\n",
    "for col in df_1.columns:\n",
    "    if col != \"Date\" and col != \"Weekly_Sales\":\n",
    "        Independents.append(col)\n",
    "print(Independents)\n",
    "\n",
    "X = df_1[Independents]\n",
    "y= df_1[\"Weekly_Sales\"]\n",
    "\n"
   ]
  },
  {
   "cell_type": "code",
   "execution_count": 18,
   "metadata": {},
   "outputs": [
    {
     "name": "stdout",
     "output_type": "stream",
     "text": [
      "            Dept  IsHoliday  Temperature  Fuel_Price  MarkDown1  MarkDown2  \\\n",
      "Date                                                                         \n",
      "2011-11-11     1          0        59.11       3.297    10382.9    6115.67   \n",
      "2011-11-11     2          0        59.11       3.297    10382.9    6115.67   \n",
      "2011-11-11     3          0        59.11       3.297    10382.9    6115.67   \n",
      "2011-11-11     4          0        59.11       3.297    10382.9    6115.67   \n",
      "2011-11-11     5          0        59.11       3.297    10382.9    6115.67   \n",
      "\n",
      "            MarkDown3  MarkDown4  MarkDown5         CPI  Unemployment  \n",
      "Date                                                                   \n",
      "2011-11-11     215.07    2406.62    6551.42  217.998085         7.866  \n",
      "2011-11-11     215.07    2406.62    6551.42  217.998085         7.866  \n",
      "2011-11-11     215.07    2406.62    6551.42  217.998085         7.866  \n",
      "2011-11-11     215.07    2406.62    6551.42  217.998085         7.866  \n",
      "2011-11-11     215.07    2406.62    6551.42  217.998085         7.866  \n"
     ]
    }
   ],
   "source": [
    "print(X.head())\n"
   ]
  },
  {
   "cell_type": "code",
   "execution_count": 19,
   "metadata": {},
   "outputs": [
    {
     "data": {
      "text/html": [
       "<style>#sk-container-id-1 {color: black;background-color: white;}#sk-container-id-1 pre{padding: 0;}#sk-container-id-1 div.sk-toggleable {background-color: white;}#sk-container-id-1 label.sk-toggleable__label {cursor: pointer;display: block;width: 100%;margin-bottom: 0;padding: 0.3em;box-sizing: border-box;text-align: center;}#sk-container-id-1 label.sk-toggleable__label-arrow:before {content: \"▸\";float: left;margin-right: 0.25em;color: #696969;}#sk-container-id-1 label.sk-toggleable__label-arrow:hover:before {color: black;}#sk-container-id-1 div.sk-estimator:hover label.sk-toggleable__label-arrow:before {color: black;}#sk-container-id-1 div.sk-toggleable__content {max-height: 0;max-width: 0;overflow: hidden;text-align: left;background-color: #f0f8ff;}#sk-container-id-1 div.sk-toggleable__content pre {margin: 0.2em;color: black;border-radius: 0.25em;background-color: #f0f8ff;}#sk-container-id-1 input.sk-toggleable__control:checked~div.sk-toggleable__content {max-height: 200px;max-width: 100%;overflow: auto;}#sk-container-id-1 input.sk-toggleable__control:checked~label.sk-toggleable__label-arrow:before {content: \"▾\";}#sk-container-id-1 div.sk-estimator input.sk-toggleable__control:checked~label.sk-toggleable__label {background-color: #d4ebff;}#sk-container-id-1 div.sk-label input.sk-toggleable__control:checked~label.sk-toggleable__label {background-color: #d4ebff;}#sk-container-id-1 input.sk-hidden--visually {border: 0;clip: rect(1px 1px 1px 1px);clip: rect(1px, 1px, 1px, 1px);height: 1px;margin: -1px;overflow: hidden;padding: 0;position: absolute;width: 1px;}#sk-container-id-1 div.sk-estimator {font-family: monospace;background-color: #f0f8ff;border: 1px dotted black;border-radius: 0.25em;box-sizing: border-box;margin-bottom: 0.5em;}#sk-container-id-1 div.sk-estimator:hover {background-color: #d4ebff;}#sk-container-id-1 div.sk-parallel-item::after {content: \"\";width: 100%;border-bottom: 1px solid gray;flex-grow: 1;}#sk-container-id-1 div.sk-label:hover label.sk-toggleable__label {background-color: #d4ebff;}#sk-container-id-1 div.sk-serial::before {content: \"\";position: absolute;border-left: 1px solid gray;box-sizing: border-box;top: 0;bottom: 0;left: 50%;z-index: 0;}#sk-container-id-1 div.sk-serial {display: flex;flex-direction: column;align-items: center;background-color: white;padding-right: 0.2em;padding-left: 0.2em;position: relative;}#sk-container-id-1 div.sk-item {position: relative;z-index: 1;}#sk-container-id-1 div.sk-parallel {display: flex;align-items: stretch;justify-content: center;background-color: white;position: relative;}#sk-container-id-1 div.sk-item::before, #sk-container-id-1 div.sk-parallel-item::before {content: \"\";position: absolute;border-left: 1px solid gray;box-sizing: border-box;top: 0;bottom: 0;left: 50%;z-index: -1;}#sk-container-id-1 div.sk-parallel-item {display: flex;flex-direction: column;z-index: 1;position: relative;background-color: white;}#sk-container-id-1 div.sk-parallel-item:first-child::after {align-self: flex-end;width: 50%;}#sk-container-id-1 div.sk-parallel-item:last-child::after {align-self: flex-start;width: 50%;}#sk-container-id-1 div.sk-parallel-item:only-child::after {width: 0;}#sk-container-id-1 div.sk-dashed-wrapped {border: 1px dashed gray;margin: 0 0.4em 0.5em 0.4em;box-sizing: border-box;padding-bottom: 0.4em;background-color: white;}#sk-container-id-1 div.sk-label label {font-family: monospace;font-weight: bold;display: inline-block;line-height: 1.2em;}#sk-container-id-1 div.sk-label-container {text-align: center;}#sk-container-id-1 div.sk-container {/* jupyter's `normalize.less` sets `[hidden] { display: none; }` but bootstrap.min.css set `[hidden] { display: none !important; }` so we also need the `!important` here to be able to override the default hidden behavior on the sphinx rendered scikit-learn.org. See: https://github.com/scikit-learn/scikit-learn/issues/21755 */display: inline-block !important;position: relative;}#sk-container-id-1 div.sk-text-repr-fallback {display: none;}</style><div id=\"sk-container-id-1\" class=\"sk-top-container\"><div class=\"sk-text-repr-fallback\"><pre>LinearRegression()</pre><b>In a Jupyter environment, please rerun this cell to show the HTML representation or trust the notebook. <br />On GitHub, the HTML representation is unable to render, please try loading this page with nbviewer.org.</b></div><div class=\"sk-container\" hidden><div class=\"sk-item\"><div class=\"sk-estimator sk-toggleable\"><input class=\"sk-toggleable__control sk-hidden--visually\" id=\"sk-estimator-id-1\" type=\"checkbox\" checked><label for=\"sk-estimator-id-1\" class=\"sk-toggleable__label sk-toggleable__label-arrow\">LinearRegression</label><div class=\"sk-toggleable__content\"><pre>LinearRegression()</pre></div></div></div></div></div>"
      ],
      "text/plain": [
       "LinearRegression()"
      ]
     },
     "execution_count": 19,
     "metadata": {},
     "output_type": "execute_result"
    }
   ],
   "source": [
    "#from imblearn.over_sampling import SMOTE\n",
    "from sklearn.model_selection import train_test_split\n",
    "from sklearn.datasets import make_classification\n",
    "from collections import Counter\n",
    "from sklearn import linear_model\n",
    "\n",
    "\n",
    "# Split the dataset\n",
    "X_train, X_test, y_train, y_test = train_test_split(X, y, test_size=0.2, random_state=42)\n",
    "\n",
    "\n",
    "from sklearn.linear_model import LinearRegression\n",
    "lr_model = linear_model.LinearRegression()\n",
    "\n",
    "lr_model.fit(X_train,y_train)\n",
    "\n"
   ]
  },
  {
   "cell_type": "code",
   "execution_count": 20,
   "metadata": {},
   "outputs": [
    {
     "name": "stdout",
     "output_type": "stream",
     "text": [
      "0.12555828197914942\n"
     ]
    }
   ],
   "source": [
    "from sklearn.metrics import r2_score\n",
    "\n",
    "y_pred = lr_model.predict(X_test)\n",
    "\n",
    "#print(math.ceil(y_pred[10]), math.ceil(y_test[10]))\n",
    "\n",
    "score = r2_score(y_test,y_pred)\n",
    "\n",
    "print(score)"
   ]
  },
  {
   "cell_type": "code",
   "execution_count": 21,
   "metadata": {},
   "outputs": [
    {
     "name": "stdout",
     "output_type": "stream",
     "text": [
      "87195.4\n",
      "38736.89713238808\n"
     ]
    },
    {
     "data": {
      "text/plain": [
       "(None, None)"
      ]
     },
     "execution_count": 21,
     "metadata": {},
     "output_type": "execute_result"
    }
   ],
   "source": [
    "print(y_test[1]), print(y_pred[1])\n",
    "\n"
   ]
  },
  {
   "cell_type": "code",
   "execution_count": 22,
   "metadata": {},
   "outputs": [],
   "source": [
    "from sklearn.preprocessing import PolynomialFeatures\n",
    "\n",
    "poly_features = PolynomialFeatures(degree=2)\n",
    "\n",
    "X_train_poly = poly_features.fit_transform(X_train)\n",
    "\n",
    "X_test_poly = poly_features.fit_transform(X_test)"
   ]
  },
  {
   "cell_type": "code",
   "execution_count": 23,
   "metadata": {},
   "outputs": [
    {
     "data": {
      "text/html": [
       "<style>#sk-container-id-2 {color: black;background-color: white;}#sk-container-id-2 pre{padding: 0;}#sk-container-id-2 div.sk-toggleable {background-color: white;}#sk-container-id-2 label.sk-toggleable__label {cursor: pointer;display: block;width: 100%;margin-bottom: 0;padding: 0.3em;box-sizing: border-box;text-align: center;}#sk-container-id-2 label.sk-toggleable__label-arrow:before {content: \"▸\";float: left;margin-right: 0.25em;color: #696969;}#sk-container-id-2 label.sk-toggleable__label-arrow:hover:before {color: black;}#sk-container-id-2 div.sk-estimator:hover label.sk-toggleable__label-arrow:before {color: black;}#sk-container-id-2 div.sk-toggleable__content {max-height: 0;max-width: 0;overflow: hidden;text-align: left;background-color: #f0f8ff;}#sk-container-id-2 div.sk-toggleable__content pre {margin: 0.2em;color: black;border-radius: 0.25em;background-color: #f0f8ff;}#sk-container-id-2 input.sk-toggleable__control:checked~div.sk-toggleable__content {max-height: 200px;max-width: 100%;overflow: auto;}#sk-container-id-2 input.sk-toggleable__control:checked~label.sk-toggleable__label-arrow:before {content: \"▾\";}#sk-container-id-2 div.sk-estimator input.sk-toggleable__control:checked~label.sk-toggleable__label {background-color: #d4ebff;}#sk-container-id-2 div.sk-label input.sk-toggleable__control:checked~label.sk-toggleable__label {background-color: #d4ebff;}#sk-container-id-2 input.sk-hidden--visually {border: 0;clip: rect(1px 1px 1px 1px);clip: rect(1px, 1px, 1px, 1px);height: 1px;margin: -1px;overflow: hidden;padding: 0;position: absolute;width: 1px;}#sk-container-id-2 div.sk-estimator {font-family: monospace;background-color: #f0f8ff;border: 1px dotted black;border-radius: 0.25em;box-sizing: border-box;margin-bottom: 0.5em;}#sk-container-id-2 div.sk-estimator:hover {background-color: #d4ebff;}#sk-container-id-2 div.sk-parallel-item::after {content: \"\";width: 100%;border-bottom: 1px solid gray;flex-grow: 1;}#sk-container-id-2 div.sk-label:hover label.sk-toggleable__label {background-color: #d4ebff;}#sk-container-id-2 div.sk-serial::before {content: \"\";position: absolute;border-left: 1px solid gray;box-sizing: border-box;top: 0;bottom: 0;left: 50%;z-index: 0;}#sk-container-id-2 div.sk-serial {display: flex;flex-direction: column;align-items: center;background-color: white;padding-right: 0.2em;padding-left: 0.2em;position: relative;}#sk-container-id-2 div.sk-item {position: relative;z-index: 1;}#sk-container-id-2 div.sk-parallel {display: flex;align-items: stretch;justify-content: center;background-color: white;position: relative;}#sk-container-id-2 div.sk-item::before, #sk-container-id-2 div.sk-parallel-item::before {content: \"\";position: absolute;border-left: 1px solid gray;box-sizing: border-box;top: 0;bottom: 0;left: 50%;z-index: -1;}#sk-container-id-2 div.sk-parallel-item {display: flex;flex-direction: column;z-index: 1;position: relative;background-color: white;}#sk-container-id-2 div.sk-parallel-item:first-child::after {align-self: flex-end;width: 50%;}#sk-container-id-2 div.sk-parallel-item:last-child::after {align-self: flex-start;width: 50%;}#sk-container-id-2 div.sk-parallel-item:only-child::after {width: 0;}#sk-container-id-2 div.sk-dashed-wrapped {border: 1px dashed gray;margin: 0 0.4em 0.5em 0.4em;box-sizing: border-box;padding-bottom: 0.4em;background-color: white;}#sk-container-id-2 div.sk-label label {font-family: monospace;font-weight: bold;display: inline-block;line-height: 1.2em;}#sk-container-id-2 div.sk-label-container {text-align: center;}#sk-container-id-2 div.sk-container {/* jupyter's `normalize.less` sets `[hidden] { display: none; }` but bootstrap.min.css set `[hidden] { display: none !important; }` so we also need the `!important` here to be able to override the default hidden behavior on the sphinx rendered scikit-learn.org. See: https://github.com/scikit-learn/scikit-learn/issues/21755 */display: inline-block !important;position: relative;}#sk-container-id-2 div.sk-text-repr-fallback {display: none;}</style><div id=\"sk-container-id-2\" class=\"sk-top-container\"><div class=\"sk-text-repr-fallback\"><pre>LinearRegression()</pre><b>In a Jupyter environment, please rerun this cell to show the HTML representation or trust the notebook. <br />On GitHub, the HTML representation is unable to render, please try loading this page with nbviewer.org.</b></div><div class=\"sk-container\" hidden><div class=\"sk-item\"><div class=\"sk-estimator sk-toggleable\"><input class=\"sk-toggleable__control sk-hidden--visually\" id=\"sk-estimator-id-2\" type=\"checkbox\" checked><label for=\"sk-estimator-id-2\" class=\"sk-toggleable__label sk-toggleable__label-arrow\">LinearRegression</label><div class=\"sk-toggleable__content\"><pre>LinearRegression()</pre></div></div></div></div></div>"
      ],
      "text/plain": [
       "LinearRegression()"
      ]
     },
     "execution_count": 23,
     "metadata": {},
     "output_type": "execute_result"
    }
   ],
   "source": [
    "polynomila_regression = LinearRegression()\n",
    "\n",
    "polynomila_regression.fit(X_train_poly,y_train)"
   ]
  },
  {
   "cell_type": "code",
   "execution_count": 24,
   "metadata": {},
   "outputs": [
    {
     "name": "stdout",
     "output_type": "stream",
     "text": [
      "0.33617189526204694\n"
     ]
    }
   ],
   "source": [
    "y_pred_poly = polynomila_regression.predict(X_test_poly)\n",
    "\n",
    "poly_score = r2_score(y_test,y_pred_poly)\n",
    "\n",
    "print(poly_score)"
   ]
  },
  {
   "cell_type": "code",
   "execution_count": 25,
   "metadata": {},
   "outputs": [
    {
     "name": "stdout",
     "output_type": "stream",
     "text": [
      "[ 3.3041490e+04  8.2674870e+04  5.7424000e+03  7.6138440e+04\n",
      "  1.0288310e+04  8.6242680e+04  5.0704900e+03  3.8407780e+04\n",
      "  1.6528290e+04  9.7236300e+03  1.4859100e+03  1.1424420e+04\n",
      "  1.6034000e+04  6.8240500e+03  7.5637200e+03  1.6916290e+04\n",
      "  7.8902100e+03  2.4836020e+04  3.9608100e+03  4.5440000e+03\n",
      "  1.0484080e+04  7.9600000e+02  6.8443220e+04  3.2851060e+04\n",
      "  1.3389350e+04  1.2485780e+04  3.1533840e+04  1.4358300e+04\n",
      "  8.4069300e+03  1.0789200e+03  3.2431810e+04  3.7507930e+04\n",
      "  3.1575200e+03  2.8492340e+04  4.4708450e+04  2.1103420e+04\n",
      "  1.4117360e+04  5.1137420e+04  7.6603530e+04  4.6671600e+03\n",
      "  6.1873330e+04  5.3525500e+03  3.7535690e+04  3.3855280e+04\n",
      "  2.3838330e+04  8.7988400e+03  2.0833840e+04  1.3415730e+04\n",
      "  2.0021350e+04  9.4857000e+02  1.5159940e+04  5.4858600e+03\n",
      "  6.5356300e+03  2.5810000e+02  1.0172390e+04  5.1849500e+03\n",
      "  2.2800000e+03  3.7693880e+04  2.5810000e+02  4.0787890e+04\n",
      "  1.9261990e+04  1.2687470e+04  2.8212000e+03  1.2691600e+03\n",
      "  6.2337800e+03  2.4043000e+02  4.1040840e+04  2.6285270e+04\n",
      "  1.1274480e+04  1.9937480e+04  8.4508900e+03  2.0021350e+04\n",
      "  1.0300600e+03  1.1034200e+04  4.2985400e+03  5.5600990e+04\n",
      "  9.1393850e+04  1.0083010e+04  2.3867820e+04  1.1790000e+03\n",
      "  3.9396590e+04  2.9252000e+02  1.1396634e+05  2.4493400e+04\n",
      "  2.3510700e+03  2.1324120e+04  4.7054500e+03  8.7236200e+03\n",
      "  2.0000000e-01  5.6375200e+03  4.7054500e+03  3.9315800e+03\n",
      "  4.0683180e+04  8.5585760e+04  2.1213000e+03  4.0422400e+03\n",
      "  7.0644800e+04  3.8000250e+04  4.8022420e+04  5.9729290e+04\n",
      "  2.0643500e+03  5.7060850e+04  1.6773280e+04  1.0066040e+04\n",
      "  5.5113940e+04  1.0565390e+04  4.0584000e+02  4.3156770e+04\n",
      "  8.4508900e+03  8.8100000e+02  9.4147900e+03  8.5257310e+04\n",
      "  1.9415380e+04  4.4708450e+04  8.1315000e+04  2.5131600e+03\n",
      "  2.8212000e+03  4.0803000e+02  2.5966800e+03  3.9255350e+04\n",
      "  1.8949100e+03  1.8684000e+04  1.7598200e+03  5.4157810e+04\n",
      "  6.1317040e+04  7.0644800e+04  3.2851060e+04  1.8427170e+04\n",
      "  4.0241210e+04  2.7563300e+03  1.2781110e+04  5.3525500e+03\n",
      "  3.5587100e+03  6.9617600e+03  4.6671600e+03  3.4800000e+01\n",
      "  1.4136000e+03  2.9454090e+04  4.0000000e-02  5.8649000e+02\n",
      "  1.8949100e+03  1.8275610e+04  1.0200280e+04  2.2346260e+04\n",
      "  5.4467000e+03  3.2450400e+03  1.0085870e+04  1.2691600e+03\n",
      "  4.9806400e+03  8.9781600e+03  3.3758450e+04  7.1766600e+03\n",
      "  4.8193900e+04  4.3541070e+04  7.4627800e+03  1.9251500e+04\n",
      "  1.9511410e+04  1.9517580e+04  1.3667880e+04  1.8211500e+03\n",
      "  2.0126950e+04  3.1907990e+04  4.1062580e+04  1.9281610e+04\n",
      "  1.4921540e+04  3.3813810e+04  1.1544630e+04  4.3726700e+04\n",
      "  4.5773030e+04  9.9700000e+00  3.9935580e+04  3.6733720e+04\n",
      "  2.0121630e+04  6.5356300e+03  2.9554460e+04  1.5856660e+04\n",
      "  1.2461850e+04  6.5815600e+03  1.0565390e+04  3.5327200e+03\n",
      "  6.8121300e+03  8.5873100e+03  1.1840627e+05  1.6773280e+04\n",
      "  1.4640600e+03  5.1362500e+03  1.1945790e+04  5.8523700e+03\n",
      "  6.1156640e+04  1.2940920e+04  2.4274600e+03  1.5159940e+04\n",
      "  6.7144100e+03  3.5000000e+01  7.4866500e+03  1.2517980e+04\n",
      "  3.1575200e+03  4.7405370e+04  3.0797880e+04  2.9345720e+04\n",
      "  1.1668000e+03  1.1553980e+04  1.1544630e+04  8.2368800e+03\n",
      "  6.8694900e+03  5.2350000e+01  4.3021000e+03  9.7444150e+04\n",
      "  4.6529680e+04  7.5665600e+03  4.1333600e+03  2.3959800e+03\n",
      "  3.9810900e+03  2.6265000e+03  1.4041105e+05  4.3726700e+04\n",
      "  3.6362410e+04  9.4160000e+02  6.7500000e+02  5.0382470e+04\n",
      "  1.2377760e+04  1.0200280e+04  3.6191600e+03  4.0584000e+02\n",
      "  2.6262950e+04  6.1455440e+04  2.7703000e+02  4.5408450e+04\n",
      "  3.1402790e+04  1.3829900e+03  4.3134880e+04  4.4796030e+04\n",
      "  2.0019690e+04  7.8610100e+03  5.7060850e+04  1.1094220e+04\n",
      "  9.1559120e+04  1.3231850e+05  9.8781000e+03  4.3930800e+03\n",
      "  2.1153500e+03  1.1410000e+03  1.7613460e+04  2.0940000e+01\n",
      "  5.0404100e+03  1.2701326e+05  2.8291680e+04  4.4132050e+04\n",
      "  1.0605660e+04  3.4800000e+01  2.1318680e+04  4.4796030e+04\n",
      "  7.4483320e+04  1.4080636e+05  5.9017100e+03  8.9559400e+03\n",
      "  8.7988400e+03  1.2757860e+04  1.8424700e+03  2.4981900e+03\n",
      "  1.6758490e+04  2.2400000e+02  4.2256000e+03  2.9590000e+03\n",
      "  2.0911250e+04  2.0889000e+02  1.0847140e+04  2.8291680e+04\n",
      "  1.1799650e+04  2.9575500e+03  2.5421700e+03  7.2060400e+03\n",
      "  3.6674670e+04  4.0241210e+04 -2.2300000e+02  6.3903030e+04\n",
      "  1.2781110e+04  4.6022600e+03  8.0162600e+03  1.6628310e+04\n",
      "  3.6636580e+04  5.7562290e+04  2.4609200e+03  7.4515000e+02\n",
      "  4.6729910e+04  3.7371220e+04  1.1060300e+03  8.7988400e+03\n",
      "  4.8365800e+03  1.6528290e+04  7.1545000e+03  2.5942350e+04\n",
      "  1.3477400e+03  8.5422800e+03  2.0000000e-01  7.5007100e+03\n",
      "  1.2940920e+04  6.1791290e+04  5.0484200e+03  1.8232460e+04\n",
      "  6.2643800e+03  1.2267100e+03  1.1013770e+04  7.8042800e+03\n",
      "  5.6692400e+03  1.6633410e+04  2.9166730e+04  2.2100000e+03\n",
      "  3.0023130e+04  6.3957700e+03  3.8806560e+04  9.4147900e+03\n",
      "  1.0700000e+03  1.7440000e+03  6.1834900e+03  1.0035250e+04\n",
      "  3.0336000e+02  9.8720500e+03  3.7433660e+04  1.8532350e+04\n",
      "  8.9013890e+04  4.7483400e+03  2.5235300e+03  5.9487050e+04\n",
      "  5.0400000e+02  2.8013630e+04  4.9908000e+03  9.0006000e+02\n",
      "  1.7972400e+03  6.8431300e+03  3.8073910e+04  1.1176060e+04\n",
      "  2.7934470e+04  1.4145076e+05  2.0039300e+03  7.6138440e+04\n",
      "  5.2188400e+03  3.8322830e+04  4.5893600e+03  4.9906280e+04\n",
      "  3.5759400e+03  4.1114360e+04  8.1300800e+03  1.9744000e+02\n",
      "  8.1501400e+03  4.9828590e+04  5.1137420e+04  9.1559120e+04\n",
      "  1.0279899e+05  1.1552430e+04  4.5393600e+03  1.1847910e+04\n",
      "  6.9617600e+03  1.7120200e+03  1.7800000e+03  3.2026800e+03\n",
      "  3.6855680e+04  9.1800000e+02  1.5146200e+03  3.3648000e+03\n",
      "  1.7440000e+03  1.7691640e+04  5.5674900e+03  3.4184660e+04\n",
      "  2.8212000e+03  8.4108100e+03  2.0704000e+03  2.3780970e+04\n",
      "  4.4565320e+04  7.0200000e+02  9.4857000e+02  1.5658144e+05\n",
      "  7.4866500e+03  4.4565320e+04  3.4097100e+03  5.7170000e+02\n",
      "  6.5398770e+04  9.5300000e+02  8.5598400e+03  7.0644800e+04\n",
      "  3.0838260e+04  6.8373270e+04  3.1065000e+02  1.0855440e+04\n",
      "  5.9097290e+04  5.0400000e+02  3.9305130e+04  1.1970000e+01\n",
      "  3.5861220e+04  1.3099410e+04  2.5966800e+03  1.6494000e+03\n",
      "  1.3364030e+04  8.4700680e+04  1.7255900e+03  3.4507340e+04\n",
      "  5.7297600e+03  4.3550000e+03  4.8022420e+04  1.8161430e+04\n",
      "  6.3659490e+04  7.6834090e+04  6.3648100e+03  1.2565060e+04\n",
      "  1.0066040e+04  3.1560500e+04  2.0643500e+03  7.4684700e+03\n",
      "  1.8949100e+03  1.6494000e+03  1.7800000e+03  1.5321618e+05\n",
      "  2.3105810e+04  2.5810000e+02  7.6925540e+04  3.1945480e+04\n",
      "  2.9347400e+03  7.4566600e+03  1.6917400e+03  2.0911250e+04\n",
      "  6.2018230e+04  2.0643500e+03  2.1158800e+03  1.6628310e+04\n",
      "  2.8212000e+03  9.1800000e+02  4.4708450e+04  4.6671600e+03\n",
      "  2.8111870e+04  1.2716600e+03  5.0471100e+03  3.7025200e+03\n",
      "  1.3264440e+04  2.5885000e+03  2.0124220e+04  8.1000000e+02\n",
      "  3.6676600e+03  1.2461850e+04  2.3105810e+04  5.6375200e+03\n",
      "  8.0034600e+03  8.8029200e+03  7.8164400e+03  1.7934280e+04\n",
      "  2.0643500e+03  2.4017030e+04  8.5873100e+03  4.9439580e+04\n",
      "  5.7060850e+04  4.5900000e+03  2.8304800e+03  1.0268710e+04\n",
      "  6.8573500e+03  6.1261650e+04  8.5598400e+03 -1.9800000e+02\n",
      "  4.9700000e+00  8.4672700e+03  7.1072300e+03  3.0371450e+04\n",
      "  1.1140280e+04  3.8934770e+04  2.0124220e+04  4.9439580e+04\n",
      "  1.4903870e+04  1.1642240e+04  1.4921540e+04  3.5001660e+04\n",
      "  1.7190600e+04  3.7254840e+04  2.3920000e+01  4.8512700e+03\n",
      "  5.4067800e+03  9.1559120e+04  3.6707300e+03  8.8100000e+02\n",
      "  7.0398400e+03  2.3105810e+04  4.1333600e+03  5.0404100e+03\n",
      "  5.0995500e+04  3.6851920e+04  1.3506900e+04  2.7253000e+03\n",
      "  7.4483320e+04  4.4000600e+03  7.1394590e+04  5.8087300e+03\n",
      "  9.8720500e+03  4.9230000e+02  7.5637200e+03  6.3776990e+04\n",
      "  1.8420800e+03  6.6710400e+04  3.8163760e+04  2.6720000e+03\n",
      "  1.2955550e+04  5.7349400e+03  1.1820170e+04  3.8451350e+04\n",
      "  6.8515300e+03  2.7703000e+02  1.2701326e+05  1.5730000e+03\n",
      "  5.6530000e+02  1.0329880e+04  2.2052600e+03  1.6528100e+04\n",
      "  7.6834090e+04  1.0502560e+04  1.0721090e+04  8.7880000e+02\n",
      "  9.1386970e+04  2.0400000e+02  2.4337240e+04  7.9197100e+03\n",
      "  4.0683180e+04  7.5808000e+02  2.1213000e+03  2.1444650e+04\n",
      "  4.2256000e+03  1.4734640e+04  2.0400000e+02  1.6563302e+05\n",
      "  5.0243600e+03  5.5600990e+04  1.9261990e+04  7.3138000e+03\n",
      "  7.5484170e+04  5.7297600e+03  3.3124000e+02  1.2943822e+05\n",
      "  3.3443230e+04  3.3855280e+04  1.1109250e+04  1.8469700e+03\n",
      "  1.4714730e+04  1.5702020e+04  3.2542870e+04  7.2876820e+04\n",
      "  5.6025800e+03  3.0816810e+04  5.0995500e+04  2.3510700e+03\n",
      "  4.2241230e+04  1.9937480e+04  4.0683180e+04  3.2450400e+03\n",
      "  1.8368510e+04  2.5988200e+03  6.2524580e+04  3.1754400e+03\n",
      "  8.1007780e+04  2.2921210e+04  9.3358910e+04  3.7077820e+04\n",
      "  4.6500000e+03  4.5040300e+03  3.2864960e+04  1.8232460e+04\n",
      "  8.2219000e+02  8.5598400e+03  1.5464720e+04  4.6788750e+04\n",
      "  1.7716260e+04  7.6100000e+02  2.3959800e+03  2.6262950e+04\n",
      "  2.3995690e+04  2.4900000e+02  7.3866400e+03  4.8300000e+03\n",
      "  5.8256370e+04  9.1800000e+02  3.5314890e+04  1.1653894e+05\n",
      "  5.6530000e+02  6.3596300e+03  1.1868512e+05  2.5579100e+03\n",
      "  9.1424800e+03  3.3643260e+04  1.8368510e+04  2.8450000e+03\n",
      "  1.2821020e+04  1.7845600e+03  1.7423400e+03  2.5307400e+03\n",
      "  8.0585600e+03  4.3036300e+03]\n",
      "0.9500632195724006\n"
     ]
    }
   ],
   "source": [
    "#Deciosion tree regressor \n",
    "\n",
    "from sklearn.tree import DecisionTreeRegressor\n",
    "regressor = DecisionTreeRegressor()\n",
    "\n",
    "regressor.fit(X_train,y_train)\n",
    "\n",
    "y_pred_regressor = regressor.predict(X_test)\n",
    "\n",
    "score_regressor = r2_score(y_test, y_pred_regressor)\n",
    "\n",
    "\n",
    "print(y_pred_regressor)\n",
    "print(score_regressor)\n"
   ]
  },
  {
   "cell_type": "code",
   "execution_count": 26,
   "metadata": {},
   "outputs": [
    {
     "name": "stdout",
     "output_type": "stream",
     "text": [
      "38551791.03340694\n"
     ]
    }
   ],
   "source": [
    "from sklearn.metrics import mean_squared_error\n",
    "\n",
    "mean_error = mean_squared_error(y_test,y_pred_regressor)\n",
    "\n",
    "print(mean_error)"
   ]
  },
  {
   "cell_type": "code",
   "execution_count": 27,
   "metadata": {},
   "outputs": [
    {
     "data": {
      "text/plain": [
       "72"
      ]
     },
     "execution_count": 27,
     "metadata": {},
     "output_type": "execute_result"
    }
   ],
   "source": [
    "import random\n",
    "\n",
    "m = random.randrange(100)\n",
    "\n",
    "m"
   ]
  },
  {
   "cell_type": "code",
   "execution_count": 28,
   "metadata": {},
   "outputs": [
    {
     "name": "stdout",
     "output_type": "stream",
     "text": [
      "1030.06 1241.1\n"
     ]
    }
   ],
   "source": [
    "print(y_pred_regressor[m],y_test[m])"
   ]
  },
  {
   "cell_type": "code",
   "execution_count": 29,
   "metadata": {},
   "outputs": [
    {
     "name": "stdout",
     "output_type": "stream",
     "text": [
      "1068.6081999999994 1241.1\n"
     ]
    }
   ],
   "source": [
    "#random forest regressor\n",
    "\n",
    "from sklearn.ensemble import RandomForestRegressor\n",
    "\n",
    "random_forest = RandomForestRegressor()\n",
    "\n",
    "random_forest.fit(X_train, y_train)\n",
    "\n",
    "y_random_forest = random_forest.predict(X_test)\n",
    "\n",
    "print(y_random_forest[m],y_test[m])\n",
    "\n"
   ]
  },
  {
   "cell_type": "code",
   "execution_count": 30,
   "metadata": {},
   "outputs": [
    {
     "name": "stdout",
     "output_type": "stream",
     "text": [
      "r2_score for random forest is 0.96230108929041\n"
     ]
    }
   ],
   "source": [
    "print(f\"r2_score for random forest is {r2_score(y_test,y_random_forest)}\")\n"
   ]
  },
  {
   "cell_type": "code",
   "execution_count": 31,
   "metadata": {},
   "outputs": [
    {
     "data": {
      "text/plain": [
       "29104009.417874373"
      ]
     },
     "execution_count": 31,
     "metadata": {},
     "output_type": "execute_result"
    }
   ],
   "source": [
    "from sklearn import metrics\n",
    "\n",
    "metrics.mean_squared_error(y_test,y_random_forest)\n"
   ]
  },
  {
   "cell_type": "code",
   "execution_count": 32,
   "metadata": {},
   "outputs": [
    {
     "data": {
      "text/plain": [
       "Date\n",
       "2012-03-09    214\n",
       "2012-08-31    572\n",
       "2012-10-26    341\n",
       "2012-03-23    280\n",
       "2012-01-13    523\n",
       "Name: Weekly_Sales, dtype: int64"
      ]
     },
     "execution_count": 32,
     "metadata": {},
     "output_type": "execute_result"
    }
   ],
   "source": [
    "errors = np.abs(y_test - y_random_forest)  # Absolute errors\n",
    "\n",
    "# Identify the indices of the worst predictions\n",
    "worst_predictions_idx = np.argsort(errors)[-5:]  # Top 5 worst predictions\n",
    "\n",
    "worst_predictions_idx[:10]\n"
   ]
  },
  {
   "cell_type": "code",
   "execution_count": 33,
   "metadata": {},
   "outputs": [
    {
     "name": "stdout",
     "output_type": "stream",
     "text": [
      "Dept                7.000000\n",
      "IsHoliday           0.000000\n",
      "Temperature        43.930000\n",
      "Fuel_Price          3.158000\n",
      "MarkDown1        4640.650000\n",
      "MarkDown2          19.000000\n",
      "MarkDown3         105.020000\n",
      "MarkDown4        3639.420000\n",
      "MarkDown5       14461.820000\n",
      "CPI               218.961846\n",
      "Unemployment        7.866000\n",
      "Name: 2011-12-09, dtype: float64\n"
     ]
    }
   ],
   "source": [
    "print(X_test.iloc[220])"
   ]
  },
  {
   "cell_type": "code",
   "execution_count": 34,
   "metadata": {},
   "outputs": [
    {
     "name": "stdout",
     "output_type": "stream",
     "text": [
      "23023.003699999994\n",
      "25192.89819999999\n",
      "44881.59869999997\n"
     ]
    }
   ],
   "source": [
    "print(abs(y_test[220]- y_random_forest[220]))\n",
    "print(abs(y_test[572]-y_random_forest[572]))\n",
    "print(abs(y_test[523]- y_random_forest[523]))"
   ]
  },
  {
   "cell_type": "code",
   "execution_count": 35,
   "metadata": {},
   "outputs": [
    {
     "data": {
      "text/plain": [
       "(292, 2654)"
      ]
     },
     "execution_count": 35,
     "metadata": {},
     "output_type": "execute_result"
    }
   ],
   "source": [
    "(df_1.IsHoliday == True).sum(), (df_1.IsHoliday == False).sum()"
   ]
  },
  {
   "cell_type": "code",
   "execution_count": 36,
   "metadata": {},
   "outputs": [
    {
     "name": "stdout",
     "output_type": "stream",
     "text": [
      "9676 6229\n"
     ]
    }
   ],
   "source": [
    "# There are more instances of \"non_holidays\" than \"holidays\", so we take an average of the sum(s).\n",
    "\n",
    "True_Sum = 0\n",
    "\n",
    "for ind,row in df_1.iterrows():\n",
    "    if row[\"IsHoliday\"] == True:\n",
    "        True_Sum += row[\"Weekly_Sales\"]\n",
    "True_Sum /= 723\n",
    "\n",
    "\n",
    "False_Sum = 0\n",
    "for ind,row in df_1.iterrows():\n",
    "    if row[\"IsHoliday\"] == False:\n",
    "        False_Sum += row[\"Weekly_Sales\"]\n",
    "\n",
    "False_Sum /= 9521\n",
    "\n",
    "print(math.ceil(True_Sum), math.ceil(False_Sum))\n",
    "\n",
    "\n"
   ]
  },
  {
   "cell_type": "code",
   "execution_count": 37,
   "metadata": {},
   "outputs": [
    {
     "data": {
      "text/plain": [
       "Date\n",
       "2012-03-30        0.50\n",
       "2012-09-14        7.00\n",
       "2012-03-16        7.50\n",
       "2012-09-21        7.64\n",
       "2012-03-23        9.48\n",
       "2012-06-01       12.00\n",
       "2011-12-09       19.00\n",
       "2012-10-26       31.75\n",
       "2012-09-07       35.74\n",
       "2011-12-23       40.48\n",
       "2012-07-13       45.20\n",
       "2011-12-16       67.00\n",
       "2011-12-02       68.00\n",
       "2012-07-06       94.40\n",
       "2011-11-25       98.00\n",
       "2012-08-31      102.32\n",
       "2012-06-15      109.60\n",
       "2012-06-08      116.80\n",
       "2012-08-03      119.98\n",
       "2012-08-17      137.86\n",
       "2012-03-09      151.88\n",
       "2012-06-22      171.25\n",
       "2012-08-10      245.00\n",
       "2011-11-18      254.39\n",
       "2012-08-24      260.06\n",
       "2012-07-20      313.72\n",
       "2012-07-27      389.02\n",
       "2012-04-20      612.02\n",
       "2012-01-27     1082.74\n",
       "2012-03-02     1569.00\n",
       "2012-01-20     2807.19\n",
       "2012-04-13     3288.69\n",
       "2012-02-03     3579.21\n",
       "2011-11-11     6115.67\n",
       "2012-02-10     6927.23\n",
       "2012-02-24     7556.01\n",
       "2012-01-13     8025.87\n",
       "2012-02-17    11062.27\n",
       "2012-01-06    21813.16\n",
       "2011-12-30    46011.38\n",
       "Name: MarkDown2, dtype: float64"
      ]
     },
     "execution_count": 37,
     "metadata": {},
     "output_type": "execute_result"
    }
   ],
   "source": [
    "df_1['MarkDown2'].drop_duplicates().sort_values()\n"
   ]
  },
  {
   "cell_type": "code",
   "execution_count": 38,
   "metadata": {},
   "outputs": [
    {
     "data": {
      "text/plain": [
       "<seaborn.axisgrid.PairGrid at 0x1a3e25a9a90>"
      ]
     },
     "execution_count": 38,
     "metadata": {},
     "output_type": "execute_result"
    },
    {
     "data": {
      "image/png": "[encoded data removed]",
      "text/plain": [
       "<Figure size 2750x250 with 11 Axes>"
      ]
     },
     "metadata": {},
     "output_type": "display_data"
    }
   ],
   "source": [
    "the_independe_columns = []\n",
    "for col in df_1.columns:\n",
    "    if col != \"Weekly_Sales\":\n",
    "        the_independe_columns.append(col)\n",
    "\n",
    "sns.pairplot(\n",
    "    df_1,\n",
    "    y_vars = [\"Weekly_Sales\"],\n",
    "    x_vars = the_independe_columns\n",
    ")"
   ]
  },
  {
   "cell_type": "code",
   "execution_count": 39,
   "metadata": {},
   "outputs": [
    {
     "data": {
      "text/plain": [
       "<Axes: xlabel='CPI', ylabel='Weekly_Sales'>"
      ]
     },
     "execution_count": 39,
     "metadata": {},
     "output_type": "execute_result"
    },
    {
     "data": {
      "image/png": "[encoded data removed]",
      "text/plain": [
       "<Figure size 640x480 with 1 Axes>"
      ]
     },
     "metadata": {},
     "output_type": "display_data"
    }
   ],
   "source": [
    "sns.lineplot(x= \"CPI\", y = \"Weekly_Sales\", data = df_1)"
   ]
  },
  {
   "cell_type": "code",
   "execution_count": 40,
   "metadata": {},
   "outputs": [
    {
     "data": {
      "text/plain": [
       "Dept              75\n",
       "Weekly_Sales    2916\n",
       "IsHoliday          2\n",
       "Temperature       41\n",
       "Fuel_Price        41\n",
       "MarkDown1         41\n",
       "MarkDown2         40\n",
       "MarkDown3         40\n",
       "MarkDown4         41\n",
       "MarkDown5         41\n",
       "CPI               41\n",
       "Unemployment       5\n",
       "dtype: int64"
      ]
     },
     "execution_count": 40,
     "metadata": {},
     "output_type": "execute_result"
    }
   ],
   "source": [
    "df_1.nunique()"
   ]
  },
  {
   "cell_type": "code",
   "execution_count": 41,
   "metadata": {},
   "outputs": [
    {
     "data": {
      "text/plain": [
       "<Axes: xlabel='IsHoliday', ylabel='Weekly_Sales'>"
      ]
     },
     "execution_count": 41,
     "metadata": {},
     "output_type": "execute_result"
    },
    {
     "data": {
      "image/png": "[encoded data removed]",
      "text/plain": [
       "<Figure size 640x480 with 1 Axes>"
      ]
     },
     "metadata": {},
     "output_type": "display_data"
    }
   ],
   "source": [
    "sns.barplot(store_1_sales, x = \"IsHoliday\", y = \"Weekly_Sales\")"
   ]
  },
  {
   "cell_type": "code",
   "execution_count": 42,
   "metadata": {},
   "outputs": [
    {
     "data": {
      "image/png": "[encoded data removed]",
      "text/plain": [
       "<Figure size 1500x800 with 5 Axes>"
      ]
     },
     "metadata": {},
     "output_type": "display_data"
    }
   ],
   "source": [
    "figure, axes = plt.subplots(1,5, sharex=True, figsize = (15,8))\n",
    "\n",
    "\n",
    "for i in range(1,6):\n",
    "        store_i_sales = sales.loc[sales['Store'] == i]\n",
    "        store_i_sales = pd.DataFrame(store_i_sales)\n",
    "        sns.barplot(store_i_sales, ax = axes[i-1] , x = \"IsHoliday\", y = \"Weekly_Sales\")\n",
    "\n"
   ]
  },
  {
   "cell_type": "code",
   "execution_count": 43,
   "metadata": {},
   "outputs": [],
   "source": [
    "# "
   ]
  }
 ],
 "metadata": {
  "kernelspec": {
   "display_name": "base",
   "language": "python",
   "name": "python3"
  },
  "language_info": {
   "codemirror_mode": {
    "name": "ipython",
    "version": 3
   },
   "file_extension": ".py",
   "mimetype": "text/x-python",
   "name": "python",
   "nbconvert_exporter": "python",
   "pygments_lexer": "ipython3",
   "version": "3.11.4"
  }
 },
 "nbformat": 4,
 "nbformat_minor": 2
}
